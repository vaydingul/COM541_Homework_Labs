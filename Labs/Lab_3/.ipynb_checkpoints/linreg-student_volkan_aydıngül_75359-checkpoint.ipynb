{
 "cells": [
  {
   "cell_type": "markdown",
   "metadata": {},
   "source": [
    "# Linear Regression on Housing Data\n",
    "In the first lab assignment, you played with Boston Housing Dataset. In this lab assignment, you are going to implement a linear regression model trained on Boston Housing Data by using Knet for the first time. We will take advantage of iterators, callable objects and automatic differentation mechanism."
   ]
  },
  {
   "cell_type": "code",
   "execution_count": 1,
   "metadata": {},
   "outputs": [
    {
     "name": "stderr",
     "output_type": "stream",
     "text": [
      "┌ Warning: Pkg.installed() is deprecated\n",
      "└ @ Pkg D:\\buildbot\\worker\\package_win64\\build\\usr\\share\\julia\\stdlib\\v1.5\\Pkg\\src\\Pkg.jl:554\n",
      "┌ Warning: Pkg.installed() is deprecated\n",
      "└ @ Pkg D:\\buildbot\\worker\\package_win64\\build\\usr\\share\\julia\\stdlib\\v1.5\\Pkg\\src\\Pkg.jl:554\n",
      "┌ Warning: Pkg.installed() is deprecated\n",
      "└ @ Pkg D:\\buildbot\\worker\\package_win64\\build\\usr\\share\\julia\\stdlib\\v1.5\\Pkg\\src\\Pkg.jl:554\n",
      "┌ Warning: Pkg.installed() is deprecated\n",
      "└ @ Pkg D:\\buildbot\\worker\\package_win64\\build\\usr\\share\\julia\\stdlib\\v1.5\\Pkg\\src\\Pkg.jl:554\n",
      "┌ Warning: Pkg.installed() is deprecated\n",
      "└ @ Pkg D:\\buildbot\\worker\\package_win64\\build\\usr\\share\\julia\\stdlib\\v1.5\\Pkg\\src\\Pkg.jl:554\n",
      "┌ Warning: Pkg.installed() is deprecated\n",
      "└ @ Pkg D:\\buildbot\\worker\\package_win64\\build\\usr\\share\\julia\\stdlib\\v1.5\\Pkg\\src\\Pkg.jl:554\n",
      "┌ Warning: Pkg.installed() is deprecated\n",
      "└ @ Pkg D:\\buildbot\\worker\\package_win64\\build\\usr\\share\\julia\\stdlib\\v1.5\\Pkg\\src\\Pkg.jl:554\n"
     ]
    }
   ],
   "source": [
    "# Do not touch this cell\n",
    "# Necessary imports\n",
    "using Pkg; for p in (\"Knet\",\"AutoGrad\",\"Plots\",\"Images\",\"ImageMagick\",\"ArgParse\",\"CUDA\"); haskey(Pkg.installed(),p) || Pkg.add(p); end\n",
    "using Knet\n",
    "using Statistics\n",
    "using Random\n",
    "using Test\n",
    "import Base: length, size, iterate, eltype, IteratorSize, IteratorEltype, haslength, @propagate_inbounds, repeat, rand, tail\n",
    "import .Iterators: cycle, Cycle, take\n",
    "using Plots; default(fmt=:png,ls=:auto)"
   ]
  },
  {
   "cell_type": "markdown",
   "metadata": {},
   "source": [
    "## Data Reading\n",
    "You do not need to worry about data reading and preprocessing: We are going to take advantage of housing data reader which is also a part of Knet. We include some source file and then use ```housing``` function. ```housing``` function takes one input argument: the percentage of the test set to split dataset into two parts. Just take a look at the cell below. In this lab session, we are going to use 20% of the data as test split."
   ]
  },
  {
   "cell_type": "code",
   "execution_count": 2,
   "metadata": {},
   "outputs": [
    {
     "name": "stderr",
     "output_type": "stream",
     "text": [
      "┌ Warning: Knet.seed!() is deprecated, please use Random.seed!() and/or CUDA.seed!() instead\n",
      "└ @ Knet.KnetArrays C:\\Users\\volkan\\.julia\\packages\\Knet\\rgT4R\\src\\knetarrays\\random.jl:14\n"
     ]
    },
    {
     "data": {
      "text/plain": [
       "((13, 405), (1, 405), (13, 101), (1, 101))"
      ]
     },
     "execution_count": 2,
     "metadata": {},
     "output_type": "execute_result"
    }
   ],
   "source": [
    "# Do not touch this cell\n",
    "# Load data\n",
    "include(joinpath(Knet.dir(), \"examples\", \"housing-linreg\", \"housing.jl\"))\n",
    "Knet.seed!(1)\n",
    "xtrn, ytrn, xtst, ytst = Housing.housing(0.20; url=\"https://raw.githubusercontent.com/ilkerkesen/ufldl-tutorial/master/ex1/housing.data\");\n",
    "\n",
    "# Print size of data matrices for testing\n",
    "size(xtrn), size(ytrn), size(xtst), size(ytst)"
   ]
  },
  {
   "cell_type": "markdown",
   "metadata": {},
   "source": [
    "## Minibatching via Iterators\n",
    "In this part, you are going implement a minibatching procedure (or let's call it pipeline). Remember, you need to implement your own minibatch function, it's forbidden to use Knet's ```minibatch``` procedure. Also, your minibatching scheme must use iterators. Just take a look at [this blog post](https://julialang.org/blog/2018/07/iterators-in-julia-0.7). To implement your minibatching pipeline, we provide you ```HousingData``` struct definition. Different from the original implementation, you are not going to discard the last remaining smaller minibatch, you will use all the instances. Also, remember that, ```HousingData``` structure is not mutable which means you are not able to change the values inside struct."
   ]
  },
  {
   "cell_type": "markdown",
   "metadata": {},
   "source": [
    "### Define `HousingData` Struct"
   ]
  },
  {
   "cell_type": "code",
   "execution_count": 3,
   "metadata": {},
   "outputs": [
    {
     "name": "stderr",
     "output_type": "stream",
     "text": [
      "┌ Info: constructor tests passed\n",
      "└ @ Main In[3]:33\n"
     ]
    }
   ],
   "source": [
    "\"\"\"\n",
    "    HousingData(x, y; batchsize::Int=100, shuffle::Bool=false)\n",
    "\n",
    "Create a HousingData object, where `x` is feature matrix, `y` is price array,\n",
    "`batchsize` is number of instances in a minibatch and `shuffle` indicates\n",
    "shuffling the order of the instances before the whole iteration process.\n",
    "\"\"\"\n",
    "struct HousingData\n",
    "    x\n",
    "    y\n",
    "    batchsize::Int\n",
    "    shuffle::Bool\n",
    "    num_instances::Int\n",
    "\n",
    "    function HousingData(\n",
    "        x, y; batchsize::Int=100, shuffle::Bool=false, dtype::Type=Array{Float64})\n",
    "        n = size(y,2)\n",
    "        new(dtype(x), dtype(y), batchsize > n ? n : batchsize, shuffle, n)    \n",
    "    end\n",
    "end\n",
    "\n",
    "# tests for ```HousingData(x, y; ...)```\n",
    "Knet.seed!(2)\n",
    "x1 = randn(5, 100); y1 = rand(1, 100)\n",
    "obj1 = HousingData(x1, y1; batchsize=20, dtype=Array{Float32}, shuffle=true)\n",
    "@test obj1.shuffle == true\n",
    "@test typeof(obj1.x) <: Array{Float32}\n",
    "@test typeof(obj1.y) <: Array{Float32}\n",
    "@test obj1.batchsize == 20\n",
    "@test obj1.num_instances == 100\n",
    "@test sum(abs2.(obj1.x - x1)) < 1e-6\n",
    "@test sum(abs2.(obj1.y - y1)) < 1e-6\n",
    "@info \"constructor tests passed\""
   ]
  },
  {
   "cell_type": "markdown",
   "metadata": {},
   "source": [
    "### Implement `length` procedure.\n",
    "Hint: You can use divrem function. Type ?divrem to see how to use."
   ]
  },
  {
   "cell_type": "code",
   "execution_count": 4,
   "metadata": {},
   "outputs": [
    {
     "name": "stderr",
     "output_type": "stream",
     "text": [
      "┌ Info: length tests passed\n",
      "└ @ Main In[4]:16\n"
     ]
    }
   ],
   "source": [
    "\"\"\"\n",
    "    length(d::HousingData)\n",
    "\n",
    "Return how many minibatches dataset `d` has.\n",
    "\"\"\"\n",
    "function length(d::HousingData)\n",
    "    return divrem(d.num_instances, d.batchsize)[2] == 0 ? divrem(d.num_instances, d.batchsize)[1] : divrem(d.num_instances, d.batchsize)[1] + 1\n",
    "end\n",
    "\n",
    "# tests for ```length(d::HousingData)```\n",
    "Knet.seed!(3)\n",
    "x1 = randn(5, 100); y1 = rand(1, 100)\n",
    "test_helper1(batchsize) = HousingData(x1,y1; batchsize=batchsize)\n",
    "objects = [test_helper1(batchsize) for batchsize in (20, 30, 50, 100, 101)]\n",
    "@test map(length, objects) == [5, 4, 2, 1, 1]\n",
    "@info \"length tests passed\""
   ]
  },
  {
   "cell_type": "markdown",
   "metadata": {},
   "source": [
    "### Implement `iterate` Procedure for `HousingData`\n",
    "In this section, you'll finish your own iterator implementation by defining\n",
    "`iterate` procedure for `HousingData` objects."
   ]
  },
  {
   "cell_type": "code",
   "execution_count": 5,
   "metadata": {},
   "outputs": [
    {
     "name": "stderr",
     "output_type": "stream",
     "text": [
      "┌ Info: iterate tests passed\n",
      "└ @ Main In[5]:40\n"
     ]
    }
   ],
   "source": [
    "\"\"\"\n",
    "    iterate(d::HousingData[, state])\n",
    "\n",
    "Iterate over `d::HousingData` object. If `state` is missing, it's the beginning\n",
    "of the whole iteration process.\n",
    "\"\"\"\n",
    "function iterate(d::HousingData, state=ifelse(\n",
    "    d.shuffle, randperm(d.num_instances), collect(1:d.num_instances)))\n",
    "    rem_idx = size(state, 1)\n",
    "    \n",
    "    if rem_idx > d.batchsize\n",
    "        mb_x = d.x[:, state[1:d.batchsize]]\n",
    "        mb_y = d.y[:, state[1:d.batchsize]]\n",
    "        return ((mb_x, mb_y), state[d.batchsize+1:end])\n",
    "        \n",
    "    elseif rem_idx == 0\n",
    "        return nothing\n",
    "        \n",
    "    else\n",
    "        new_bs = rem_idx\n",
    "        mb_x = d.x[:, state[1:new_bs]]\n",
    "        mb_y = d.y[:, state[1:new_bs]]\n",
    "        return ((mb_x, mb_y), [])\n",
    "    end\n",
    "end\n",
    "\n",
    "Knet.seed!(4)\n",
    "dtrn = HousingData(xtrn, ytrn; shuffle=true)\n",
    "dtst = HousingData(xtst, ytst)\n",
    "\n",
    "# Tests for ```iterate``` function\n",
    "x1 = randn(5, 100); y1 = rand(1, 100);\n",
    "test_helper2(batchsize) = HousingData(x1,y1; batchsize=batchsize)\n",
    "test_helper3(batches) = mapreduce(bi->size(bi[2],2), +, batches)\n",
    "objects = [test_helper1(batchsize) for batchsize in (20, 30, 50, 100, 101)]\n",
    "data_arrays = map(collect, objects)\n",
    "num_instances = map(test_helper3, data_arrays)\n",
    "@test map(length, data_arrays) == map(length, objects)\n",
    "@test prod(num_instances .== 100) == 1\n",
    "@info \"iterate tests passed\""
   ]
  },
  {
   "cell_type": "markdown",
   "metadata": {},
   "source": [
    "## Model Implementation via Callable Objects\n",
    "Next, we are going to implement our model via callable objects. In Julia, we can call objects. Just give a glimpse at the following code snippet:"
   ]
  },
  {
   "cell_type": "code",
   "execution_count": 6,
   "metadata": {},
   "outputs": [
    {
     "name": "stdout",
     "output_type": "stream",
     "text": [
      "Hello, World!\n",
      "Hello, Jupiter!\n"
     ]
    }
   ],
   "source": [
    "struct Hello\n",
    "    planet\n",
    "    Hello(planet=\"World\") = new(planet)\n",
    "end\n",
    "\n",
    "(obj::Hello)() = println(\"Hello, $(obj.planet)!\")\n",
    "\n",
    "hello_world = Hello()\n",
    "hello_world()\n",
    "\n",
    "hello_jupiter = Hello(\"Jupiter\")\n",
    "hello_jupiter()"
   ]
  },
  {
   "cell_type": "markdown",
   "metadata": {},
   "source": [
    "For this assingment, you just need to define a linear layer and that's all! Write your solutions to the below cell. Hint: You need to use ```Param``` method of AutoGrad. Just type ```@doc Param``` to see the documentation."
   ]
  },
  {
   "cell_type": "code",
   "execution_count": 7,
   "metadata": {},
   "outputs": [
    {
     "name": "stderr",
     "output_type": "stream",
     "text": [
      "┌ Info: Linear tests passed\n",
      "└ @ Main In[7]:45\n"
     ]
    }
   ],
   "source": [
    "\"\"\"\n",
    "    Linear(inputsize, outputsize; atype=Array{Float64}, scale::Float64=0.1)\n",
    "\n",
    "Create a linear layer with its weight and bias. Initial weight parameters are\n",
    "sampled from normal distribution scaled by a `scale` factor. Initial bias\n",
    "values are zeros.\n",
    "\n",
    "# Examples\n",
    "```julia-repl\n",
    "julia> layer = Linear(5,1);\n",
    "\n",
    "julia> x = rand(2,5);\n",
    "\n",
    "julia> layer(x); # forward call\n",
    "```\n",
    "\"\"\"\n",
    "struct Linear\n",
    "    w\n",
    "    b\n",
    "\n",
    "    function Linear(inputsize::Int, outputsize::Int,\n",
    "                    atype=Array{Float64}, scale::Float64=0.1)\n",
    "        new( Param(randn(outputsize, inputsize) * scale), Param(zeros(outputsize, 1)))\n",
    "    end\n",
    "end\n",
    "\n",
    "function (l::Linear)(x)\n",
    "    return l.w * x .+ l.b\n",
    "end\n",
    "\n",
    "model = Linear(13, 1)\n",
    "\n",
    "\n",
    "# Tests for ```Linear```\n",
    "Knet.seed!(5)\n",
    "test_model = Linear(5,3)\n",
    "test_data = rand(5,10)\n",
    "@test fieldnames(Linear) == (:w, :b)\n",
    "@test typeof(test_model.w) <: Param\n",
    "@test typeof(test_model.b) <: Param\n",
    "@test size(test_model.w) == (3,5)\n",
    "@test size(test_model.b) == (3,1)\n",
    "@test sum(abs2.(test_model.b.value)) ≈ 0.0\n",
    "@test size(test_model(test_data)) == (3,10)\n",
    "@info \"Linear tests passed\""
   ]
  },
  {
   "cell_type": "markdown",
   "metadata": {},
   "source": [
    "## Define Loss Function\n",
    "In this part, we'll define our loss function. We are going to use minimum squared error loss function,"
   ]
  },
  {
   "cell_type": "markdown",
   "metadata": {},
   "source": [
    "![MSE](http://web.itu.edu.tr/keseni/mse.png)"
   ]
  },
  {
   "cell_type": "markdown",
   "metadata": {},
   "source": [
    "We're going to define three diffent functions for this purpose,"
   ]
  },
  {
   "cell_type": "markdown",
   "metadata": {},
   "source": [
    "1. A function takes predictions and target values as input.\n",
    "2. A callable object procedure that takes input/output pair as input\n",
    "3. A callable object procedure that takes our dataset object as input"
   ]
  },
  {
   "cell_type": "markdown",
   "metadata": {},
   "source": [
    "See function prototypes below and the documentation of ```train!``` function."
   ]
  },
  {
   "cell_type": "code",
   "execution_count": 8,
   "metadata": {},
   "outputs": [
    {
     "name": "stderr",
     "output_type": "stream",
     "text": [
      "┌ Info: mse tests passed\n",
      "└ @ Main In[8]:45\n"
     ]
    }
   ],
   "source": [
    "\"\"\"\n",
    "    mse(predicted, target)\n",
    "\n",
    "Calculates minimum squared error (MSE) between predicted and target values.\n",
    "\"\"\"\n",
    "function mse(predictions, targets)\n",
    "    N = size(targets, 2)\n",
    "    return sum((predictions .- targets) .^ 2) ./ (2 * N) \n",
    "end\n",
    "\n",
    "\n",
    "\"\"\"\n",
    "    (m::Linear)(x, y)\n",
    "\n",
    "Calculate MSE for a single minibatch by using a `Linear` layer / model.\n",
    "\"\"\"\n",
    "function (m::Linear)(x, y)\n",
    "    predictions = m(x)\n",
    "    return mse(predictions, y)\n",
    "end\n",
    "\n",
    "\n",
    "\"\"\"\n",
    "    (m::Linear)(data::HousingData)\n",
    "\n",
    "Calculate MSE for the whole dataset by using a `Linear` layer / model.\n",
    "\"\"\"\n",
    "function (m::Linear)(data::HousingData)\n",
    "    mses = [m(x,y) for (x,y) in data]\n",
    "    return mean(mses)\n",
    "end\n",
    "\n",
    "\n",
    "\n",
    "# Tests for `mse`\n",
    "Knet.seed!(6)\n",
    "x1 = randn(5, 100); y1 = rand(1, 100); batchsize = 20\n",
    "test_data = HousingData(x1,y1; batchsize=batchsize, shuffle=false)\n",
    "test_model = Linear(5, 1)\n",
    "bx, by = first(test_data)\n",
    "batch_mse, data_mse = mse(test_model(bx), by), test_model(test_data)\n",
    "data_mse = test_model(test_data)\n",
    "@test batch_mse ≈ 0.17215155 || batch_mse ≈ 0.219498036\n",
    "@test data_mse ≈ 0.21266383 || data_mse ≈ 0.215281964\n",
    "@info \"mse tests passed\""
   ]
  },
  {
   "cell_type": "markdown",
   "metadata": {},
   "source": [
    "## Training with Modular Interface and Iterators\n",
    "Now, let's implement a ```mytrain!``` procedure to train our network! It takes model, train data, test data, report period (in iterations) and number of maximum iterations. It trains our model until a certain maximum iterations number, records loss values of train and test data splits after each report period. It should output three lists: iterations numbers, loss values of train set, loss values of test set."
   ]
  },
  {
   "cell_type": "markdown",
   "metadata": {},
   "source": [
    "Hint: You may need ```sgd!```, ```cycle```, ```take``` and other similar procedures. Use default parameters for ```sgd!```."
   ]
  },
  {
   "cell_type": "code",
   "execution_count": 9,
   "metadata": {},
   "outputs": [
    {
     "name": "stderr",
     "output_type": "stream",
     "text": [
      "┌ Info: mytrain! tests passed\n",
      "└ @ Main In[9]:35\n"
     ]
    },
    {
     "data": {
      "image/png": "[encoded data removed]"
     },
     "execution_count": 9,
     "metadata": {},
     "output_type": "execute_result"
    }
   ],
   "source": [
    "\"\"\"\n",
    "    mytrain!(model::Linear, train_data::HousingData, test_data::HousingData, period=10, iters=500)\n",
    "\n",
    "Train `model` on `train_data` for `iters` iterations. Calculate losses for the\n",
    "whole train and test data splits (`train_data` and `test_data`) in every `period`\n",
    "iteration. Return iteration numbers and losses for train and test data.\n",
    "\"\"\"\n",
    "function mytrain!(model::Linear, train_data::HousingData, test_data::HousingData,\n",
    "                  period::Int=10, iters::Int=500)\n",
    "    train_loss = Array{Float64, 1}()\n",
    "    test_loss = Array{Float64, 1}()\n",
    "    \n",
    "    #push!(train_loss, model(train_data))\n",
    "    #push!(test_loss, model(test_data))\n",
    "    \n",
    "    for _ in 0:period:iters\n",
    "        \n",
    "        push!(train_loss, model(train_data))\n",
    "        push!(test_loss, model(test_data))\n",
    "        sgd!(model,take(cycle(train_data),period))\n",
    "        \n",
    "    end\n",
    "    return 0:period:iters, train_loss, test_loss\n",
    "end\n",
    "\n",
    "\n",
    "# Finally, let's train a network,\n",
    "Knet.seed!(7)\n",
    "model = Linear(13, 1)\n",
    "dtrn = HousingData(xtrn, ytrn; shuffle=true)\n",
    "dtst = HousingData(xtst, ytst)\n",
    "iters, trnloss, tstloss = mytrain!(model, dtrn, dtst)\n",
    "@test trnloss[2] ≈ 70.1396520\n",
    "@test tstloss[2] ≈ 28.3967556\n",
    "@info \"mytrain! tests passed\"\n",
    "plot(iters, trnloss, label=\"train\", xlabel=\"iterations\", ylabel=\"loss\")\n",
    "plot!(iters, tstloss, label=\"test\")"
   ]
  },
  {
   "cell_type": "markdown",
   "metadata": {},
   "source": [
    "---\n",
    "\n",
    "*This notebook was generated using [Literate.jl](https://github.com/fredrikekre/Literate.jl).*"
   ]
  },
  {
   "cell_type": "code",
   "execution_count": null,
   "metadata": {},
   "outputs": [],
   "source": []
  },
  {
   "cell_type": "code",
   "execution_count": null,
   "metadata": {},
   "outputs": [],
   "source": []
  }
 ],
 "metadata": {
  "kernelspec": {
   "display_name": "Julia 1.5.2",
   "language": "julia",
   "name": "julia-1.5"
  },
  "language_info": {
   "file_extension": ".jl",
   "mimetype": "application/julia",
   "name": "julia",
   "version": "1.5.2"
  }
 },
 "nbformat": 4,
 "nbformat_minor": 3
}
