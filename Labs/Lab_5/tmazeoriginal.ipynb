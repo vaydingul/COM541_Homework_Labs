{
 "cells": [
  {
   "cell_type": "markdown",
   "source": [
    "# COMP541 - LAB #5\n",
    "\n",
    "<img src=\"http://drive.google.com/uc?export=view&id=1RJUAUMmViCsYSgyFj7oyqBu4c6AZMeFR\">"
   ],
   "metadata": {}
  },
  {
   "cell_type": "markdown",
   "source": [
    "T-Maze problem was designed to test Reinforcement Learning-LSTM's capability to bridge long time lags, without confounding the results by making the control task difficult in other ways [(Bakker, 2002)](http://papers.nips.cc/paper/1953-reinforcement-learning-with-long-short-term-memory.pdf]). However, we can also use this test-bed for supervised algorithms by exploiting the gold actions.\n",
    "\n",
    "In the T-Maze problem, the agent has four possible actions: move North, East, South, or West. The agent must learn to move from the starting position at the beginning of the corridor to the T-junction. There it must move either North or South to a changing goal position, which it cannot see. However, the location of the goal depends on a \"road sign\" the agent has seen at the starting position. At the starting position, the observation is either 011 (North) or 110 (South), in the corridor the observation is 101, and at the T-junction the observation is 010.\n",
    "\n",
    "In this assignment, you will complete lstm based architecture, train and test the model on different settings to inspect the learning curve and generalization power of the model. You will also explore the behavior of the model by visualizing hidden and cell vectors, and weights."
   ],
   "metadata": {}
  },
  {
   "outputs": [],
   "cell_type": "code",
   "source": [
    "using Pkg;\n",
    "\n",
    "# Install missing packages\n",
    "for p in [\"Knet\", \"Luxor\", \"Plots\"]\n",
    "    if !haskey(Pkg.installed(),p)\n",
    "        Pkg.add(p);\n",
    "    end\n",
    "end\n",
    "\n",
    "using Knet, Luxor, Plots, Random, Printf"
   ],
   "metadata": {},
   "execution_count": null
  },
  {
   "cell_type": "markdown",
   "source": [
    "## General Information\n",
    "Our goal is 0 for North and 1 for South\n",
    "Agent can take an action with step function. Directions are 1 for North, 2 for East, 3 for South, and 4 for West. If the action is not permitted, nothing happens in that round. These actions are:\n",
    "* Taking action North, South or West at the starting point\n",
    "* Taking action South or North in the corridor\n",
    "* Taking action East at the T-junction\n",
    "\n",
    "At each step, our input is as follows:\n",
    "* At the starting point\n",
    "  + If end goal is South -> \\[1.0, 1.0, 0.0\\]\n",
    "  + If end goal is North -> \\[0.0, 1.0, 1.0\\]\n",
    "* In the corridor -> \\[1.0, 0.0, 1.0\\]\n",
    "* At the T-junction -> \\[0.0, 1.0, 0.0\\]"
   ],
   "metadata": {}
  },
  {
   "outputs": [],
   "cell_type": "code",
   "source": [
    "mutable struct TMaze\n",
    "    length::Int # length except T-junction\n",
    "    goal::Int # 0 = North, 1 = South\n",
    "    agent_position::Tuple{Int,Int} # Agent's current position (x, y)\n",
    "end\n",
    "\n",
    "function get_state(maze::TMaze)\n",
    "    \"\"\"\n",
    "    Returns the current state\n",
    "    \"\"\"\n",
    "\n",
    "    state = zeros(Float32, 3,)\n",
    "\n",
    "    if maze.agent_position[1] == maze.length # At the T-junction\n",
    "        state[2] = 1.0\n",
    "    elseif maze.agent_position[1] == 0 # At the start position\n",
    "        if maze.goal == 0\n",
    "            state[2] = 1.0\n",
    "            state[3] = 1.0\n",
    "        else\n",
    "            state[1] = 1.0\n",
    "            state[2] = 1.0\n",
    "        end\n",
    "    else # In the corridor\n",
    "        state[1] = 1.0\n",
    "        state[3] = 1.0\n",
    "    end\n",
    "    return state\n",
    "end\n",
    "\n",
    "function step(maze::TMaze, action::Int)\n",
    "    \"\"\"\n",
    "    Gets action and plays one step. If the resulted state is the final state\n",
    "    then it checks whether it is the goal state or not. If it is a goal state\n",
    "    and the correct one it returns 1, if it is wrong it returns -1.\n",
    "    If the resulted state is not the final state, then it returns 0.\n",
    "    1 : North\n",
    "    2 : East\n",
    "    3 : South\n",
    "    4 : West\n",
    "    \"\"\"\n",
    "    p = maze.agent_position\n",
    "    res = 0\n",
    "\n",
    "    if p[1] == maze.length && p[2] == 0\n",
    "        if action == 1\n",
    "            maze.agent_position = (p[1], min(-1, p[2]-1))\n",
    "            res = maze.goal == 0 ? 1 : -1\n",
    "        elseif action == 3\n",
    "            maze.agent_position = (p[1], min(1, p[2]+1))\n",
    "            res = maze.goal == 0 ? -1 : 1\n",
    "        elseif action == 4\n",
    "            maze.agent_position = (p[1]-1, 0)\n",
    "        end\n",
    "    elseif p[1] != maze.length && action == 2\n",
    "        maze.agent_position = (p[1]+1, 0)\n",
    "    elseif p[1] != maze.length && action == 4\n",
    "        maze.agent_position = (min(p[1]-1, 0), 0)\n",
    "    end\n",
    "    return res\n",
    "end\n",
    "\n",
    "function get_gold_actions(maze::TMaze)\n",
    "    \"\"\"\n",
    "    Returns a vector of integer for gold actions\n",
    "    \"\"\"\n",
    "\n",
    "    gold_actions = ones(Int, maze.length) * 2\n",
    "    push!(gold_actions, maze.goal == 0 ? 1 : 3)\n",
    "    return gold_actions\n",
    "end\n",
    "\n",
    "function get_supervised_states(maze::TMaze)\n",
    "    \"\"\"\n",
    "    Returns the list of states for the gold actions.\n",
    "    The list includes the starting position, but does not include the final state.\n",
    "    \"\"\"\n",
    "\n",
    "    p = maze.agent_position # store the agent position\n",
    "\n",
    "    maze.agent_position = (0, 0)\n",
    "\n",
    "    states = []\n",
    "    for action in get_gold_actions(maze)\n",
    "        push!(states, get_state(maze))\n",
    "        step(maze, action)\n",
    "    end\n",
    "\n",
    "    maze.agent_position = p # reset\n",
    "    return states\n",
    "end\n",
    "\n",
    "function draw(maze::TMaze)\n",
    "    dim = 500 / (2 * (maze.length +1))\n",
    "    Drawing(500, round(Int, dim*3))\n",
    "    origin()\n",
    "    background(\"white\")\n",
    "    sethue(\"black\")\n",
    "    box.([O + (i*dim, 0) for i=0:maze.length], dim, dim, :stroke)\n",
    "    if maze.goal == 0\n",
    "        sethue(\"crimson\")\n",
    "        box.(O + (maze.length*dim, -dim), dim, dim, :fill)\n",
    "        sethue(\"black\")\n",
    "        box.(O + (maze.length*dim, dim), dim, dim, :stroke)\n",
    "        if maze.agent_position[1] == 0\n",
    "            Luxor.arrow(O + (0, -dim*0.65), Point(0, -dim*1.45))\n",
    "        end\n",
    "    else\n",
    "        sethue(\"crimson\")\n",
    "        box.(O + (maze.length*dim, dim), dim, dim, :fill)\n",
    "        sethue(\"black\")\n",
    "        box.(O + (maze.length*dim, -dim), dim, dim, :stroke)\n",
    "        if maze.agent_position[1] == 0\n",
    "            Luxor.arrow(O + (0, dim*0.65), Point(0, dim*1.45))\n",
    "        end\n",
    "    end\n",
    "    sethue(\"steelblue4\")\n",
    "    circle(O + (maze.agent_position[1]*dim,maze.agent_position[2]*dim), dim*0.45, :fill)\n",
    "    finish()\n",
    "    display(preview())\n",
    "    IJulia.clear_output(true)\n",
    "end"
   ],
   "metadata": {},
   "execution_count": null
  },
  {
   "outputs": [],
   "cell_type": "code",
   "source": [
    "maze = TMaze(5,1,(0,0));"
   ],
   "metadata": {},
   "execution_count": null
  },
  {
   "outputs": [],
   "cell_type": "code",
   "source": [
    "draw(maze);"
   ],
   "metadata": {},
   "execution_count": null
  },
  {
   "outputs": [],
   "cell_type": "code",
   "source": [
    "maze2 = TMaze(5,1,(0,0));\n",
    "draw(maze2)\n",
    "sleep(1)\n",
    "\n",
    "# Let's animate\n",
    "for action in get_gold_actions(maze2)\n",
    "    res = step(maze2, action)\n",
    "    draw(maze2)\n",
    "    # print(\"Action: $action\\n\")\n",
    "    # print(\"Result: $res\")\n",
    "    sleep(1) # sleep 1 second\n",
    "end"
   ],
   "metadata": {},
   "execution_count": null
  },
  {
   "outputs": [],
   "cell_type": "code",
   "source": [
    "get_gold_actions(maze)"
   ],
   "metadata": {},
   "execution_count": null
  },
  {
   "outputs": [],
   "cell_type": "code",
   "source": [
    "get_supervised_states(maze)"
   ],
   "metadata": {},
   "execution_count": null
  },
  {
   "outputs": [],
   "cell_type": "code",
   "source": [
    "function get_all_data_up_to(N::Int)\n",
    "    \"\"\"\n",
    "    Generates a list of tuples, where each tuple contains supervised states\n",
    "    and gold actions for a specific configuration. There are 2N tuples in the\n",
    "    list.\n",
    "    \"\"\"\n",
    "    data = []\n",
    "    for i=1:N\n",
    "        for goal in [0, 1]\n",
    "            maze = TMaze(i,goal,(0,0));\n",
    "            states = get_supervised_states(maze)\n",
    "            actions = get_gold_actions(maze)\n",
    "            push!(data, (states, actions))\n",
    "        end\n",
    "    end\n",
    "    return data\n",
    "end"
   ],
   "metadata": {},
   "execution_count": null
  },
  {
   "outputs": [],
   "cell_type": "code",
   "source": [
    "data = get_all_data_up_to(3)"
   ],
   "metadata": {},
   "execution_count": null
  },
  {
   "cell_type": "markdown",
   "source": [
    "## Problem 1. Implement the LSTM Agent\n",
    "You need to implement initweights function which takes hidden, world size and number of actions, and returns the whole model as `Array{Any}` julia data type."
   ],
   "metadata": {}
  },
  {
   "outputs": [],
   "cell_type": "code",
   "source": [
    "# model definition\n",
    "struct Linear\n",
    "    w\n",
    "    b\n",
    "end\n",
    "\n",
    "# Initializer for a softmax classifier\n",
    "function Linear(num_inputs::Int, num_outputs::Int; init=gaussian, atype=Knet.atype())\n",
    "    # Your code here\n",
    "end\n",
    "\n",
    "function (l::Linear)(x)\n",
    "    # Your code here\n",
    "end\n",
    "\n",
    "struct LSTMNet\n",
    "    w\n",
    "    b\n",
    "end\n",
    "\n",
    "# Hint you mave take a look main function below to better understand its calling convention\n",
    "# Remember that, forget gate bias should be ones instead of zeros\n",
    "function LSTMNet(num_inputs::Int, hidden_size::Int; init=gaussian, atype=Knet.atype())\n",
    "    # Your code here\n",
    "end\n",
    "\n",
    "# lstm procedure is given to you\n",
    "# weight * input .+ bias, concatenated weights for computational efficiency\n",
    "# You should use this function in your LSTM module call\n",
    "function lstm(weight, bias, hidden, cell, input)\n",
    "    gates   = weight * vcat(hidden,input) .+ bias\n",
    "    hsize   = size(hidden,1)\n",
    "    forget  = sigm.(gates[1:hsize,:])\n",
    "    ingate  = sigm.(gates[1+hsize:2hsize,:])\n",
    "    outgate = sigm.(gates[1+2hsize:3hsize,:])\n",
    "    change  = tanh.(gates[1+3hsize:end,:])\n",
    "    cell    = cell .* forget + ingate .* change\n",
    "    hidden  = outgate .* tanh.(cell)\n",
    "    return (hidden, cell)\n",
    "end\n",
    "\n",
    "function (l::LSTMNet)(x, prev_hidden, prev_cell)\n",
    "    # Your code here\n",
    "end\n",
    "\n",
    "mutable struct LSTMAgent\n",
    "    lstm::LSTMNet # a lstm network\n",
    "    linear::Linear # a linear layer on top of the lstm network\n",
    "    state # Array{Any}(undef, 2) for hidden and cell states\n",
    "    atype # Array{Float32} or KnetArray{Float32}. Defaults to Knet.atype()\n",
    "end\n",
    "\n",
    "function LSTMAgent(hidden_size::Int, world_dim::Int=3, num_actions::Int=4; atype=Knet.atype())\n",
    "    # Your code here\n",
    "end\n",
    "\n",
    "# resets the hidden and cell states\n",
    "function reset!(model::LSTMAgent)\n",
    "    # Your code here\n",
    "end\n",
    "\n",
    "# before calling the model you should reset the hidden and cell states\n",
    "# model gets world state(s) and applies the lstm function to each state in the world_states\n",
    "# and predicts a score vector for actions.\n",
    "# Don't forget to convert the data to atype!\n",
    "function (model::LSTMAgent)(world_states)\n",
    "    scores = []\n",
    "    # Your code here\n",
    "    return scores\n",
    "end"
   ],
   "metadata": {},
   "execution_count": null
  },
  {
   "cell_type": "markdown",
   "source": [
    "## Problem 2. Implement Loss function\n",
    "That function basically takes the predictions and returns the negative log-likelihood of these predictions as loss.\n",
    "Hint: You may have a look Knet's at ```nll``` function"
   ],
   "metadata": {}
  },
  {
   "outputs": [],
   "cell_type": "code",
   "source": [
    "# our loss function\n",
    "function loss(model, world_states, gold_actions)\n",
    "    total = 0.0\n",
    "    scores = model(world_states)\n",
    "\n",
    "    # Your code here\n",
    "    lossval = total/length(gold_actions)\n",
    "    return lossval\n",
    "end"
   ],
   "metadata": {},
   "execution_count": null
  },
  {
   "outputs": [],
   "cell_type": "code",
   "source": [
    "function train!(model, world_states, gold_actions)\n",
    "    L = @diff loss(model, world_states, gold_actions)\n",
    "    for p in params(model)\n",
    "        g = grad(L, p)\n",
    "        update!(value(p), g, p.opt)\n",
    "    end\n",
    "    return value(L)\n",
    "end"
   ],
   "metadata": {},
   "execution_count": null
  },
  {
   "cell_type": "markdown",
   "source": [
    "## Problem 3. Implement accuracy function\n",
    "This function takes a model and a data array, and returns an array of 1's and 0's for the correctness of that action set.\n",
    "In order for the action set's result to be 1, each move has to be correct (same with the gold action in that state).\n",
    "Hint: You will need ```argmax``` function\n",
    "Don't forget to convert the model output to Array, since it can be a KnetArray if you are using GPU."
   ],
   "metadata": {}
  },
  {
   "outputs": [],
   "cell_type": "code",
   "source": [
    "# possible helpful procedures: vec\n",
    "function path_accuracy(model, data)\n",
    "    accuracies = []\n",
    "    for (world_states, gold_actions) in data\n",
    "        ncorrect = 0\n",
    "        reset!(model)\n",
    "        scores = model(world_states)\n",
    "        # ncorrect must be equal to the path length (i.e. length of the gold actions)\n",
    "\n",
    "        # Your code here\n",
    "\n",
    "        push!(accuracies, ncorrect == length(gold_actions) ? 1.0 : 0.0)\n",
    "    end\n",
    "\n",
    "    return accuracies\n",
    "end"
   ],
   "metadata": {},
   "execution_count": null
  },
  {
   "outputs": [],
   "cell_type": "code",
   "source": [
    "function train_until_all_success(model, data; maxe=50000)\n",
    "    \"\"\"\n",
    "    Gets model parameters w, initial states s, optimizers opt and data.\n",
    "    It trains the model untill the accuracy on the data reach to 1.0.\n",
    "    \"\"\"\n",
    "    experiment = []\n",
    "    for i=1:maxe\n",
    "        world_states, gold_actions = rand(data) #sample data\n",
    "        reset!(model)\n",
    "        train!(model, world_states, gold_actions)\n",
    "\n",
    "        accuracies = path_accuracy(model, data)\n",
    "        total = sum(accuracies)/length(accuracies)\n",
    "        push!(experiment, total)\n",
    "        print(\"\\r Number of Instances: $i Acc: $(@sprintf(\"%.3f\", total))\")\n",
    "        if total == 1.0\n",
    "            break\n",
    "        end\n",
    "    end\n",
    "    return experiment\n",
    "end"
   ],
   "metadata": {},
   "execution_count": null
  },
  {
   "outputs": [],
   "cell_type": "code",
   "source": [
    "data = get_all_data_up_to(10);"
   ],
   "metadata": {},
   "execution_count": null
  },
  {
   "outputs": [],
   "cell_type": "code",
   "source": [
    "# Model with 4 hidden_size\n",
    "Knet.seed!(1)\n",
    "HIDDEN = 4\n",
    "\n",
    "model_4 = LSTMAgent(HIDDEN, atype=Array{Float32})\n",
    "for p in params(model_4)\n",
    "    p.opt = Adam()\n",
    "end\n",
    "\n",
    "Random.seed!(1)\n",
    "hidden_4 = train_until_all_success(model_4, data; maxe=100000);"
   ],
   "metadata": {},
   "execution_count": null
  },
  {
   "outputs": [],
   "cell_type": "code",
   "source": [
    "# Model with 8 hidden_size\n",
    "Knet.seed!(1)\n",
    "HIDDEN = 8\n",
    "\n",
    "model_8 = LSTMAgent(HIDDEN, atype=Array{Float32})\n",
    "for p in params(model_8)\n",
    "    p.opt = Adam()\n",
    "end\n",
    "\n",
    "Random.seed!(1)\n",
    "hidden_8 = train_until_all_success(model_8, data; maxe=100000);"
   ],
   "metadata": {},
   "execution_count": null
  },
  {
   "outputs": [],
   "cell_type": "code",
   "source": [
    "# Model with 16 hidden_size\n",
    "Knet.seed!(1)\n",
    "HIDDEN = 16\n",
    "\n",
    "model_16 = LSTMAgent(HIDDEN, atype=Array{Float32})\n",
    "for p in params(model_16)\n",
    "    p.opt = Adam()\n",
    "end\n",
    "\n",
    "Random.seed!(1)\n",
    "hidden_16 = train_until_all_success(model_16, data; maxe=100000);"
   ],
   "metadata": {},
   "execution_count": null
  },
  {
   "outputs": [],
   "cell_type": "code",
   "source": [
    "plot([1:length(hidden_4), 1:length(hidden_8), 1:length(hidden_16)],\n",
    "    [hidden_4, hidden_8, hidden_16],\n",
    "    label=[\"hidden_4\" \"hidden_8\" \"hidden_16\"],\n",
    "    xlabel=\"Number of instances\", ylabel=\"Accuracy\", title=\"Hidden size comparison\")"
   ],
   "metadata": {},
   "execution_count": null
  },
  {
   "outputs": [],
   "cell_type": "code",
   "source": [
    "limit = 50\n",
    "test_data = get_all_data_up_to(limit);\n",
    "\n",
    "accuracies = path_accuracy(model_4, test_data)\n",
    "N_4 = map(x->sum(accuracies[(x-1)*2+1:x*2])/2, 1:limit);\n",
    "\n",
    "accuracies = path_accuracy(model_8, test_data)\n",
    "N_8 = map(x->sum(accuracies[(x-1)*2+1:x*2])/2, 1:limit);\n",
    "\n",
    "accuracies = path_accuracy(model_16, test_data)\n",
    "N_16 = map(x->sum(accuracies[(x-1)*2+1:x*2])/2, 1:limit);\n",
    "\n",
    "plot([N_4 N_8 N_16], linetype=:scatter, m=[:circle :cross :star5],\n",
    "    label=[\"hidden_4\" \"hidden_8\" \"hidden_16\"],\n",
    "    xlabel=\"Corridor Length\", ylabel=\"Accuracy\", title=\"Generalization\")"
   ],
   "metadata": {},
   "execution_count": null
  },
  {
   "cell_type": "markdown",
   "source": [
    "hidden_4 and hidden_8 models can only handle up to corridor length equals to 10. However, hidden_16 is able to solve the task. Let's inspect the behaviour of this model."
   ],
   "metadata": {}
  },
  {
   "cell_type": "markdown",
   "source": [
    "## Problem 4. Implement Play function\n",
    "`play` function gets a maze, trained model parameters w and initial states s. It takes action using the model until either the agent reaches the final state or exceeds the maximum action limit. The function returns the actions taken, hidden and cell states of the lstm.\n",
    "Hint: part of the code is the same as in path_accuracy function.\n",
    "Don't forget to convert the model prediction to Array, since it can be a KnetArray if you are using GPU."
   ],
   "metadata": {}
  },
  {
   "outputs": [],
   "cell_type": "code",
   "source": [
    "function play(maze, model; max_actions=20)\n",
    "    res = 0\n",
    "    action_count = 0\n",
    "    hiddens = []\n",
    "    cells = []\n",
    "    actions = []\n",
    "    draw(maze)\n",
    "    reset!(model)\n",
    "    while !(res != 0 || action_count >= max_actions)\n",
    "        sleep(1) # sleep 1 second\n",
    "        x = get_state(maze) # get state\n",
    "        # Your code here\n",
    "\n",
    "        res = step(maze, action) # prediction from the model\n",
    "        draw(maze)\n",
    "        action_count += 1\n",
    "    end\n",
    "\n",
    "    return actions, hiddens, cells\n",
    "end"
   ],
   "metadata": {},
   "execution_count": null
  },
  {
   "outputs": [],
   "cell_type": "code",
   "source": [
    "maze = TMaze(5, 0, (0, 0))\n",
    "actions_0, hiddens_0, cells_0 = play(maze, model_16);"
   ],
   "metadata": {},
   "execution_count": null
  },
  {
   "cell_type": "markdown",
   "source": [
    "### Hidden and cell state visualizations"
   ],
   "metadata": {}
  },
  {
   "outputs": [],
   "cell_type": "code",
   "source": [
    "xs = [string(\"state\", i) for i = 1:maze.length+1]\n",
    "ys = [string(\"unit\", i) for i = 1:16]\n",
    "heatmap(xs, ys, hcat(hiddens_0...), title=\"Hidden states for a maze(length=5) and the goal is north\")"
   ],
   "metadata": {},
   "execution_count": null
  },
  {
   "outputs": [],
   "cell_type": "code",
   "source": [
    "xs = [string(\"state\", i) for i = 1:maze.length+1]\n",
    "ys = [string(\"unit\", i) for i = 1:16]\n",
    "heatmap(xs, ys, hcat(cells_0...), title=\"Cell states for a maze(length=5) and the goal is north\")"
   ],
   "metadata": {},
   "execution_count": null
  },
  {
   "outputs": [],
   "cell_type": "code",
   "source": [
    "maze = TMaze(5, 1, (0, 0))\n",
    "actions_1, hiddens_1, cells_1 = play(maze, model_16);"
   ],
   "metadata": {},
   "execution_count": null
  },
  {
   "outputs": [],
   "cell_type": "code",
   "source": [
    "xs = [string(\"state\", i) for i = 1:maze.length+1]\n",
    "ys = [string(\"unit\", i) for i = 1:16]\n",
    "heatmap(xs, ys, hcat(hiddens_1...), title=\"Hidden states for a maze(length=5) and the goal is south\")"
   ],
   "metadata": {},
   "execution_count": null
  },
  {
   "outputs": [],
   "cell_type": "code",
   "source": [
    "xs = [string(\"state\", i) for i = 1:maze.length+1]\n",
    "ys = [string(\"unit\", i) for i = 1:16]\n",
    "heatmap(xs, ys, hcat(cells_1...), title=\"Cell states for a maze(length=5) and the goal is south\")"
   ],
   "metadata": {},
   "execution_count": null
  },
  {
   "cell_type": "markdown",
   "source": [
    "Until the t-junction, the model preserves the hidden state and at the t-junction it switches hidden state for the final prediction."
   ],
   "metadata": {}
  },
  {
   "cell_type": "markdown",
   "source": [
    "### Some weight visualization"
   ],
   "metadata": {}
  },
  {
   "outputs": [],
   "cell_type": "code",
   "source": [
    "xs = [string(\"x\", i) for i = 1:3]\n",
    "ys = [string(\"w\", i) for i = 1:16]\n",
    "heatmap(xs, ys, value(model_16.lstm.w)[1:16,17:19], title=\"Forget gate weight used in W_forget * x_t\")"
   ],
   "metadata": {},
   "execution_count": null
  },
  {
   "outputs": [],
   "cell_type": "code",
   "source": [
    "xs = [string(\"x\", i) for i = 1:3]\n",
    "ys = [string(\"w\", i) for i = 1:16]\n",
    "heatmap(xs, ys, value(model_16.lstm.w)[17:32,17:19], title=\"Input gate weight used in W_input * x_t\")"
   ],
   "metadata": {},
   "execution_count": null
  },
  {
   "outputs": [],
   "cell_type": "code",
   "source": [
    "xs = [string(\"h\", i) for i = 1:16]\n",
    "ys = [string(\"w\", i) for i = 1:16]\n",
    "heatmap(xs, ys, value(model_16.lstm.w)[17:32,1:16], title=\"Input gate weight used in W_input * prev_hidden\")"
   ],
   "metadata": {},
   "execution_count": null
  },
  {
   "cell_type": "markdown",
   "source": [
    "Do not bother making any comment about this last heatmap."
   ],
   "metadata": {}
  },
  {
   "cell_type": "markdown",
   "source": [
    "Now discuss the findings from the figures.\n",
    "\n",
    "Your Comment:"
   ],
   "metadata": {}
  },
  {
   "cell_type": "markdown",
   "source": [
    "---\n",
    "\n",
    "*This notebook was generated using [Literate.jl](https://github.com/fredrikekre/Literate.jl).*"
   ],
   "metadata": {}
  }
 ],
 "nbformat_minor": 3,
 "metadata": {
  "language_info": {
   "file_extension": ".jl",
   "mimetype": "application/julia",
   "name": "julia",
   "version": "1.5.2"
  },
  "kernelspec": {
   "name": "julia-1.5",
   "display_name": "Julia 1.5.2",
   "language": "julia"
  }
 },
 "nbformat": 4
}
