{
 "cells": [
  {
   "cell_type": "code",
   "execution_count": 2,
   "metadata": {},
   "outputs": [],
   "source": [
    "ENV[\"COLUMNS\"]=72\n",
    "using Knet: conv4, pool, mat, KnetArray, nll, zeroone, progress, progress!, sgd, adam, rmsprop, adagrad, param, param0, dropout, relu, minibatch, Data, sigm, tanh\n",
    "using Statistics: mean\n",
    "using Random\n",
    "using Test\n",
    "using MLDatasets: MNIST\n",
    "using IterTools: ncycle, takenth\n",
    "import .Iterators: cycle, Cycle, take\n",
    "import CUDA\n"
   ]
  },
  {
   "cell_type": "code",
   "execution_count": 3,
   "metadata": {},
   "outputs": [
    {
     "data": {
      "text/plain": [
       "Array{Float32,N} where N"
      ]
     },
     "execution_count": 3,
     "metadata": {},
     "output_type": "execute_result"
    }
   ],
   "source": [
    "a_type = (CUDA.functional() ? KnetArray{Float32} : Array{Float32})"
   ]
  },
  {
   "cell_type": "code",
   "execution_count": 4,
   "metadata": {},
   "outputs": [],
   "source": [
    "# Dense layer definition\n",
    "struct Dense\n",
    "    w\n",
    "    b\n",
    "    f\n",
    "    p\n",
    "end\n",
    "\n",
    "(d::Dense)(x) = d.f.(d.w * mat(dropout(x, d.p)) .+ d.b) # Callable object that feed-forwards one minibatch through a layer\n",
    "# Constructor definition for Dense layer\n",
    "Dense(i::Int,o::Int,f=relu; a_type = Array, pdrop=0) = Dense(param(o, i; atype = a_type), param0(o; atype = a_type), f, pdrop)\n",
    "\n",
    "struct GenericMLP\n",
    "    layers\n",
    "    optimizer_type\n",
    "    lr\n",
    "    function GenericMLP(i = 784, o = 10; hidden = [], f = relu, pdrop = 0.0, optimizer_type = sgd, lr = 0.1, a_type = Array)\n",
    "    \n",
    "        architecture = vcat(i, hidden, o)\n",
    "        layers = []\n",
    "\n",
    "        for k in 1:size(architecture, 1) - 1\n",
    "\n",
    "            push!(layers, Dense(architecture[k], architecture[k + 1], f, a_type = a_type, pdrop = pdrop))\n",
    "        end\n",
    "\n",
    "        new(Tuple(layers), optimizer_type, lr)\n",
    "        \n",
    "    end\n",
    "    \n",
    "end\n",
    "\n",
    "\n",
    "\n",
    "function (gmlp::GenericMLP)(x)\n",
    "   \n",
    "    for l in gmlp.layers\n",
    "    \n",
    "        x = l(x)\n",
    "    \n",
    "    end\n",
    "    \n",
    "    return x\n",
    "    \n",
    "end\n",
    "\n",
    "function (gmlp::GenericMLP)(x, y)\n",
    "   \n",
    "    return nll(gmlp(x), y)\n",
    "    \n",
    "end\n",
    "\n",
    "function (gmlp::GenericMLP)(data::Data)\n",
    "    \n",
    "    return mean(gmlp(x, y) for (x, y) in data)\n",
    "    \n",
    "end\n",
    "\n"
   ]
  },
  {
   "cell_type": "code",
   "execution_count": 38,
   "metadata": {},
   "outputs": [],
   "source": [
    "# Convolutional layer definition\n",
    "struct Conv\n",
    "    w \n",
    "    b\n",
    "    f \n",
    "    p \n",
    "end\n",
    "\n",
    "(c::Conv)(x) = c.f.(pool(conv4(c.w, dropout(x, c.p)) .+ c.b)) # Callable object that feed-forwards one minibatch\n",
    "# Constructor definition for Convolutional layer\n",
    "Conv(w1::Int,w2::Int,cx::Int,cy::Int,f=relu; a_type = Array, pdrop=0) = Conv(param(w1, w2, cx, cy; atype = a_type), param0(1, 1, cy, 1; atype = a_type), f, pdrop)\n",
    "\n",
    "struct GeneriCONV\n",
    "    layers\n",
    "    optimizer_type\n",
    "    lr\n",
    "    function GeneriCONV(i_dim, o_dim, kernels; hidden = [], f = relu, pdrop = 0.0, optimizer_type = sgd, lr = 0.1, a_type = Array)\n",
    "        \n",
    "        layers = []\n",
    "        x, _, c, _ = i_dim \n",
    "        \n",
    "        for kernel in kernels\n",
    "        \n",
    "            spatial = kernel[1]\n",
    "            output_dim = kernel[2]\n",
    "            push!(layers, Conv(spatial, spatial, c, output_dim, f; a_type = a_type, pdrop = pdrop))\n",
    "            \n",
    "            x = floor((x - spatial + 1) / 2)\n",
    "            c = output_dim\n",
    "        \n",
    "        end\n",
    "        \n",
    "        i_dense = x * x * c\n",
    "        o_dense = o_dim\n",
    "\n",
    "        gmlp = GenericMLP(convert(Int64, i_dense), o_dense; hidden = hidden, f = f, a_type = a_type, pdrop = pdrop)\n",
    "\n",
    "        push!(layers, gmlp.layers...)\n",
    "\n",
    "        new(Tuple(layers), optimizer_type, lr)\n",
    "        \n",
    "    \n",
    "    end\n",
    "    \n",
    "    \n",
    "end\n",
    "\n",
    "\n",
    "function (gconv::GeneriCONV)(x)\n",
    "   \n",
    "    for l in gconv.layers\n",
    "    \n",
    "        x = l(x)\n",
    "    \n",
    "    end\n",
    "    \n",
    "    return x\n",
    "    \n",
    "end\n",
    "\n",
    "function (gconv::GeneriCONV)(x, y)\n",
    "   \n",
    "    return nll(gconv(x), y)\n",
    "    \n",
    "end\n",
    "\n",
    "function (gconv::GeneriCONV)(data::Data)\n",
    "    \n",
    "    return mean(gconv(x, y) for (x, y) in data)\n",
    "    \n",
    "end"
   ]
  },
  {
   "cell_type": "code",
   "execution_count": 45,
   "metadata": {},
   "outputs": [
    {
     "data": {
      "text/plain": [
       "train_summarize (generic function with 3 methods)"
      ]
     },
     "execution_count": 45,
     "metadata": {},
     "output_type": "execute_result"
    }
   ],
   "source": [
    "function train_summarize(model; dtrn, epoch = 100)\n",
    "    \n",
    "    result = (model(dtrn) for x in takenth(progress(model.optimizer_type(model,ncycle(dtrn,epoch), lr = model.lr)),length(dtrn)));\n",
    "    return collect(result)\n",
    "end"
   ]
  },
  {
   "cell_type": "code",
   "execution_count": 31,
   "metadata": {},
   "outputs": [
    {
     "name": "stdout",
     "output_type": "stream",
     "text": [
      "dtrn = 600-element Data{Tuple{Array{Float32,N} where N,Array{Int64,N} where N}}\n"
     ]
    },
    {
     "data": {
      "text/plain": [
       "600-element Data{Tuple{Array{Float32,N} where N,Array{Int64,N} where N}}"
      ]
     },
     "execution_count": 31,
     "metadata": {},
     "output_type": "execute_result"
    }
   ],
   "source": [
    "xtrn,ytrn = MNIST.traindata(Float32); ytrn[ytrn.==0] .= 10\n",
    "xtst,ytst = MNIST.testdata(Float32);  ytst[ytst.==0] .= 10\n",
    "dtrn = minibatch(xtrn, ytrn, 100; xsize = (784,:), xtype = a_type)\n",
    "dtst = minibatch(xtst, ytst, 100; xsize = (784,:), xtype = a_type);\n",
    "@show dtrn"
   ]
  },
  {
   "cell_type": "code",
   "execution_count": 7,
   "metadata": {
    "scrolled": true
   },
   "outputs": [
    {
     "name": "stdout",
     "output_type": "stream",
     "text": [
      "gmlp1(dtrn) = 2.3984659f0\n"
     ]
    },
    {
     "name": "stderr",
     "output_type": "stream",
     "text": [
      "┣████████████████████┫ [100.00%, 600/600, 00:07/00:07, 91.52i/s] \n"
     ]
    },
    {
     "name": "stdout",
     "output_type": "stream",
     "text": [
      "gmlp1(dtrn) = 0.3847315f0\n"
     ]
    },
    {
     "data": {
      "text/plain": [
       "0.3847315f0"
      ]
     },
     "execution_count": 7,
     "metadata": {},
     "output_type": "execute_result"
    }
   ],
   "source": [
    "gmlp1 = GenericMLP(784, 10; hidden = [], f = identity, a_type = a_type, pdrop = 0, optimizer_type = sgd, lr = 0.1)\n",
    "@show gmlp1(dtrn)\n",
    "loss1 = train(gmlp1, dtrn,1);\n",
    "@show gmlp1(dtrn)"
   ]
  },
  {
   "cell_type": "code",
   "execution_count": 8,
   "metadata": {},
   "outputs": [
    {
     "name": "stdout",
     "output_type": "stream",
     "text": [
      "gmlp2(dtrn) = 2.4540172f0\n"
     ]
    },
    {
     "name": "stderr",
     "output_type": "stream",
     "text": [
      "┣████████████████████┫ [100.00%, 600/600, 00:08/00:08, 72.76i/s] \n"
     ]
    },
    {
     "name": "stdout",
     "output_type": "stream",
     "text": [
      "gmlp2(dtrn) = 1.0894085f0\n"
     ]
    },
    {
     "data": {
      "text/plain": [
       "1.0894085f0"
      ]
     },
     "execution_count": 8,
     "metadata": {},
     "output_type": "execute_result"
    }
   ],
   "source": [
    "gmlp2 = GenericMLP(784, 10 ; hidden = [30], f = tanh, a_type = a_type, pdrop = 0, optimizer_type = adam, lr = 0.1)\n",
    "@show gmlp2(dtrn)\n",
    "loss2 = train(gmlp2, dtrn, 1);\n",
    "@show gmlp2(dtrn)"
   ]
  },
  {
   "cell_type": "code",
   "execution_count": 9,
   "metadata": {},
   "outputs": [
    {
     "name": "stdout",
     "output_type": "stream",
     "text": [
      "gmlp3(dtrn) = 2.3117151f0\n"
     ]
    },
    {
     "name": "stderr",
     "output_type": "stream",
     "text": [
      "┣████████████████████┫ [100.00%, 600/600, 00:06/00:06, 92.66i/s] \n"
     ]
    },
    {
     "name": "stdout",
     "output_type": "stream",
     "text": [
      "gmlp3(dtrn) = 1.5668726f0\n"
     ]
    },
    {
     "data": {
      "text/plain": [
       "1.5668726f0"
      ]
     },
     "execution_count": 9,
     "metadata": {},
     "output_type": "execute_result"
    }
   ],
   "source": [
    "gmlp3 = GenericMLP(784, 10 ; hidden = [60], f = sigm, a_type = a_type, pdrop = 0.5, optimizer_type = rmsprop, lr = 0.01)\n",
    "@show gmlp3(dtrn)\n",
    "loss3 = train(gmlp3, dtrn, 1);\n",
    "@show gmlp3(dtrn)"
   ]
  },
  {
   "cell_type": "code",
   "execution_count": 10,
   "metadata": {},
   "outputs": [
    {
     "name": "stdout",
     "output_type": "stream",
     "text": [
      "gmlp4(dtrn) = 2.279828f0"
     ]
    },
    {
     "name": "stderr",
     "output_type": "stream",
     "text": [
      "\r",
      "┣                    ┫ [0.17%, 1/600, 00:01/05:50, 1.71i/s] "
     ]
    },
    {
     "name": "stdout",
     "output_type": "stream",
     "text": [
      "\n"
     ]
    },
    {
     "name": "stderr",
     "output_type": "stream",
     "text": [
      "┣████████████████████┫ [100.00%, 600/600, 00:03/00:03, 214.35i/s] \n"
     ]
    },
    {
     "name": "stdout",
     "output_type": "stream",
     "text": [
      "gmlp4(dtrn) = 0.2987718f0\n"
     ]
    },
    {
     "data": {
      "text/plain": [
       "0.2987718f0"
      ]
     },
     "execution_count": 10,
     "metadata": {},
     "output_type": "execute_result"
    }
   ],
   "source": [
    "gmlp4 = GenericMLP(784, 10 ; hidden = [30, 30], f = relu, a_type = a_type, pdrop = 0, optimizer_type = sgd, lr = 0.1)\n",
    "@show gmlp4(dtrn)\n",
    "loss4 = train(gmlp4, dtrn, 1);\n",
    "@show gmlp4(dtrn)"
   ]
  },
  {
   "cell_type": "code",
   "execution_count": 7,
   "metadata": {},
   "outputs": [],
   "source": [
    "xtrn,ytrn = MNIST.traindata(Float32); ytrn[ytrn.==0] .= 10\n",
    "xtst,ytst = MNIST.testdata(Float32);  ytst[ytst.==0] .= 10\n",
    "dtrn = minibatch(xtrn, ytrn, 100; xsize = (28,28,1,:), xtype = a_type)\n",
    "dtst = minibatch(xtst, ytst, 100; xsize = (28,28,1,:), xtype = a_type);"
   ]
  },
  {
   "cell_type": "code",
   "execution_count": 12,
   "metadata": {
    "scrolled": true
   },
   "outputs": [
    {
     "name": "stdout",
     "output_type": "stream",
     "text": [
      "gconv(dtrn) = 2.304462f0\n"
     ]
    },
    {
     "name": "stderr",
     "output_type": "stream",
     "text": [
      "┣████████████████████┫ [100.00%, 600/600, 00:36/00:36, 16.61i/s]                  ┫ [14.83%, 89/600, 00:17/01:52, 43.11i/s] \n"
     ]
    },
    {
     "name": "stdout",
     "output_type": "stream",
     "text": [
      "gconv(dtrn) = 0.91396695f0\n"
     ]
    },
    {
     "data": {
      "text/plain": [
       "0.91396695f0"
      ]
     },
     "execution_count": 12,
     "metadata": {},
     "output_type": "execute_result"
    }
   ],
   "source": [
    "gconv = GeneriCONV((28,28,1,100), 10, [(5,3)], [], f = relu, a_type = a_type, pdrop = 0.0, optimizer_type = sgd, lr = 0.1)\n",
    "@show gconv(dtrn)\n",
    "conv_loss = train(gconv, dtrn, 1);\n",
    "@show gconv(dtrn)"
   ]
  },
  {
   "cell_type": "code",
   "execution_count": 13,
   "metadata": {},
   "outputs": [
    {
     "name": "stdout",
     "output_type": "stream",
     "text": [
      "gconv(dtrn) = 2.3110049f0"
     ]
    },
    {
     "name": "stderr",
     "output_type": "stream",
     "text": [
      "\r",
      "┣                    ┫ [0.17%, 1/600, 00:01/08:08, 1.23i/s] "
     ]
    },
    {
     "name": "stdout",
     "output_type": "stream",
     "text": [
      "\n"
     ]
    },
    {
     "name": "stderr",
     "output_type": "stream",
     "text": [
      "┣████████████████████┫ [100.00%, 600/600, 00:19/00:19, 31.61i/s] 15.83%, 95/600, 00:03/00:18, 45.34i/s] \n"
     ]
    },
    {
     "name": "stdout",
     "output_type": "stream",
     "text": [
      "gconv(dtrn) = 1.096976f0\n"
     ]
    },
    {
     "data": {
      "text/plain": [
       "1.096976f0"
      ]
     },
     "execution_count": 13,
     "metadata": {},
     "output_type": "execute_result"
    }
   ],
   "source": [
    "gconv = GeneriCONV((28,28,1,100), 10, [(5,3)], [], f = relu, a_type = a_type, pdrop = 0.0, optimizer_type = adam, lr = 0.1)\n",
    "@show gconv(dtrn)\n",
    "conv_loss = train(gconv, dtrn, 1);\n",
    "@show gconv(dtrn)"
   ]
  },
  {
   "cell_type": "code",
   "execution_count": 14,
   "metadata": {},
   "outputs": [
    {
     "name": "stdout",
     "output_type": "stream",
     "text": [
      "gconv(dtrn) = 2.3966498f0\n"
     ]
    },
    {
     "name": "stderr",
     "output_type": "stream",
     "text": [
      "┣████████████████████┫ [100.00%, 600/600, 00:20/00:20, 29.70i/s] \n"
     ]
    },
    {
     "name": "stdout",
     "output_type": "stream",
     "text": [
      "gconv(dtrn) = 1.3287678f0\n"
     ]
    },
    {
     "data": {
      "text/plain": [
       "1.3287678f0"
      ]
     },
     "execution_count": 14,
     "metadata": {},
     "output_type": "execute_result"
    }
   ],
   "source": [
    "gconv = GeneriCONV((28,28,1,100), 10, [(5,3)], [], f = relu, a_type = a_type, pdrop = 0.0, optimizer_type = sgd, lr = 0.2)\n",
    "@show gconv(dtrn)\n",
    "conv_loss = train(gconv, dtrn, 1);\n",
    "@show gconv(dtrn)"
   ]
  },
  {
   "cell_type": "code",
   "execution_count": 15,
   "metadata": {},
   "outputs": [
    {
     "name": "stdout",
     "output_type": "stream",
     "text": [
      "gconv(dtrn) = 2.330751f0\n"
     ]
    },
    {
     "name": "stderr",
     "output_type": "stream",
     "text": [
      "┣████████████████████┫ [100.00%, 600/600, 00:21/00:21, 29.08i/s] ██████████████▏    ┫ [75.83%, 455/600, 00:11/00:14, 42.56i/s] [81.50%, 489/600, 00:12/00:14, 32.56i/s] \n"
     ]
    },
    {
     "name": "stdout",
     "output_type": "stream",
     "text": [
      "gconv(dtrn) = 0.66135305f0\n"
     ]
    },
    {
     "data": {
      "text/plain": [
       "0.66135305f0"
      ]
     },
     "execution_count": 15,
     "metadata": {},
     "output_type": "execute_result"
    }
   ],
   "source": [
    "gconv = GeneriCONV((28,28,1,100), 10, [(5,3)], [], f = relu, a_type = a_type, pdrop = 0.0, optimizer_type = rmsprop, lr = 0.05)\n",
    "@show gconv(dtrn)\n",
    "conv_loss = train(gconv, dtrn, 1);\n",
    "@show gconv(dtrn)"
   ]
  },
  {
   "cell_type": "code",
   "execution_count": 16,
   "metadata": {},
   "outputs": [
    {
     "name": "stdout",
     "output_type": "stream",
     "text": [
      "gconv(dtrn) = 2.3138297f0"
     ]
    },
    {
     "name": "stderr",
     "output_type": "stream",
     "text": [
      "\r",
      "┣                    ┫ [0.17%, 1/600, 00:01/09:25, 1.06i/s] "
     ]
    },
    {
     "name": "stdout",
     "output_type": "stream",
     "text": [
      "\n"
     ]
    },
    {
     "name": "stderr",
     "output_type": "stream",
     "text": [
      "┣████████████████████┫ [100.00%, 600/600, 00:24/00:24, 25.16i/s] \n"
     ]
    },
    {
     "name": "stdout",
     "output_type": "stream",
     "text": [
      "gconv(dtrn) = 1.8719897f0\n"
     ]
    },
    {
     "data": {
      "text/plain": [
       "1.8719897f0"
      ]
     },
     "execution_count": 16,
     "metadata": {},
     "output_type": "execute_result"
    }
   ],
   "source": [
    "gconv = GeneriCONV((28,28,1,100), 10, [(5,3)], [], f = sigm, a_type = a_type, pdrop = 0.0, optimizer_type = sgd, lr = 0.1)\n",
    "@show gconv(dtrn)\n",
    "conv_loss = train(gconv, dtrn, 1);\n",
    "@show gconv(dtrn)"
   ]
  },
  {
   "cell_type": "code",
   "execution_count": 32,
   "metadata": {},
   "outputs": [
    {
     "name": "stdout",
     "output_type": "stream",
     "text": [
      "gconv(dtrn) = 2.3186362f0\n"
     ]
    },
    {
     "name": "stderr",
     "output_type": "stream",
     "text": [
      "┣████████████████████┫ [100.00%, 600/600, 00:35/00:35, 17.36i/s] ▏                  ┫ [6.17%, 37/600, 00:13/03:33, 35.79i/s] ▌                 ┫ [12.83%, 77/600, 00:14/01:50, 39.14i/s] \n"
     ]
    },
    {
     "name": "stdout",
     "output_type": "stream",
     "text": [
      "gconv(dtrn) = 0.9711142f0\n"
     ]
    },
    {
     "data": {
      "text/plain": [
       "0.9711142f0"
      ]
     },
     "execution_count": 32,
     "metadata": {},
     "output_type": "execute_result"
    }
   ],
   "source": [
    "gconv = GeneriCONV((28,28,1,100), 10, [(5,3), (3,20)], [30], f = tanh, a_type = a_type, pdrop = 0.0, optimizer_type = sgd, lr = 0.1)\n",
    "@show gconv(dtrn)\n",
    "conv_loss = train_summarize(gconv, dtrn, 1);\n",
    "@show gconv(dtrn)"
   ]
  },
  {
   "cell_type": "code",
   "execution_count": 18,
   "metadata": {},
   "outputs": [
    {
     "name": "stdout",
     "output_type": "stream",
     "text": [
      "gconv(dtrn) = 2.308941f0\n"
     ]
    },
    {
     "name": "stderr",
     "output_type": "stream",
     "text": [
      "┣████████████████████┫ [100.00%, 600/600, 00:27/00:27, 22.55i/s] \n"
     ]
    },
    {
     "name": "stdout",
     "output_type": "stream",
     "text": [
      "gconv(dtrn) = 0.42979252f0\n"
     ]
    },
    {
     "data": {
      "text/plain": [
       "0.42979252f0"
      ]
     },
     "execution_count": 18,
     "metadata": {},
     "output_type": "execute_result"
    }
   ],
   "source": [
    "gconv = GeneriCONV((28,28,1,100), 10, [(5,6)], [20], f = relu, a_type = a_type, pdrop = 0.0, optimizer_type = sgd, lr = 0.1)\n",
    "@show gconv(dtrn)\n",
    "conv_loss = train(gconv, dtrn, 1);\n",
    "@show gconv(dtrn)"
   ]
  },
  {
   "cell_type": "code",
   "execution_count": 29,
   "metadata": {},
   "outputs": [
    {
     "name": "stdout",
     "output_type": "stream",
     "text": [
      "gconv(dtrn) = 2.3086264f0\n"
     ]
    },
    {
     "ename": "LoadError",
     "evalue": "UndefVarError: train not defined",
     "output_type": "error",
     "traceback": [
      "UndefVarError: train not defined",
      "",
      "Stacktrace:",
      " [1] top-level scope at In[29]:3",
      " [2] include_string(::Function, ::Module, ::String, ::String) at .\\loading.jl:1091",
      " [3] execute_code(::String, ::String) at C:\\Users\\volkan\\.julia\\packages\\IJulia\\rWZ9e\\src\\execute_request.jl:27",
      " [4] execute_request(::ZMQ.Socket, ::IJulia.Msg) at C:\\Users\\volkan\\.julia\\packages\\IJulia\\rWZ9e\\src\\execute_request.jl:86",
      " [5] #invokelatest#1 at .\\essentials.jl:710 [inlined]",
      " [6] invokelatest at .\\essentials.jl:709 [inlined]",
      " [7] eventloop(::ZMQ.Socket) at C:\\Users\\volkan\\.julia\\packages\\IJulia\\rWZ9e\\src\\eventloop.jl:8",
      " [8] (::IJulia.var\"#15#18\")() at .\\task.jl:356"
     ]
    }
   ],
   "source": [
    "gconv = GeneriCONV((28,28,1,100), 10, [(5,3), (2, 10)], [10]; f = sigm, a_type = a_type, pdrop = 0.0, optimizer_type = sgd, lr = 0.1)\n",
    "@show gconv(dtrn)\n",
    "conv_loss = train(gconv, dtrn, 1);\n",
    "@show gconv(dtrn)"
   ]
  },
  {
   "cell_type": "code",
   "execution_count": 17,
   "metadata": {},
   "outputs": [
    {
     "data": {
      "text/plain": [
       "3-element Array{Array{Tuple{Int64,Int64},1},1}:\n",
       " [(5, 3)]\n",
       " [(5, 20), (5, 50)]\n",
       " [(5, 10), (4, 10), (3, 10)]"
      ]
     },
     "execution_count": 17,
     "metadata": {},
     "output_type": "execute_result"
    }
   ],
   "source": [
    "ACTIVATION_FUNCTIONS = [relu, sigm, tanh]\n",
    "OPTIMIZER_TYPE = [sgd, adam, rmsprop, adagrad]\n",
    "LEARNING_RATE = [0.05, 0.1, 0.15]\n",
    "HIDDEN_LAYER = [[], [30], [60], [60, 30], [90, 60, 30]]\n",
    "CONV_LAYER = [[(5, 3)], [(5, 20), (5, 50)], [(5, 10), (4, 10), (3, 10)]]"
   ]
  },
  {
   "cell_type": "code",
   "execution_count": 18,
   "metadata": {},
   "outputs": [],
   "source": [
    "xtrn,ytrn = MNIST.traindata(Float32); ytrn[ytrn.==0] .= 10\n",
    "xtst,ytst = MNIST.testdata(Float32);  ytst[ytst.==0] .= 10\n",
    "dtrn = minibatch(xtrn, ytrn, 100; xsize = (28,28,1,:), xtype = a_type)\n",
    "dtst = minibatch(xtst, ytst, 100; xsize = (28,28,1,:), xtype = a_type);"
   ]
  },
  {
   "cell_type": "code",
   "execution_count": 39,
   "metadata": {},
   "outputs": [],
   "source": [
    "models = []\n",
    "for f in shuffle(ACTIVATION_FUNCTIONS)\n",
    "    for optimizer_type in shuffle(OPTIMIZER_TYPE)\n",
    "        for lr in shuffle(LEARNING_RATE)\n",
    "            for hidden in shuffle(HIDDEN_LAYER)\n",
    "                for kernels in shuffle(CONV_LAYER)\n",
    "                    \n",
    "                    model = GeneriCONV((28, 28, 1, 100), 10, kernels; hidden = hidden,\n",
    "                       f = f, a_type = a_type, pdrop = 0.0, \n",
    "                        optimizer_type = optimizer_type, lr = lr)\n",
    "                    push!(models, model)\n",
    "                    \n",
    "                end\n",
    "            end\n",
    "        end\n",
    "    end\n",
    "end\n",
    "    "
   ]
  },
  {
   "cell_type": "code",
   "execution_count": 40,
   "metadata": {},
   "outputs": [
    {
     "data": {
      "text/plain": [
       "540-element Array{Any,1}:\n",
       " GeneriCONV((Conv(P(Array{Float32,4}(5,5,1,10)), P(Array{Float32,4}(1,1,10,1)), Knet.Ops20.relu, 0.0), Conv(P(Array{Float32,4}(4,4,10,10)), P(Array{Float32,4}(1,1,10,1)), Knet.Ops20.relu, 0.0), Conv(P(Array{Float32,4}(3,3,10,10)), P(Array{Float32,4}(1,1,10,1)), Knet.Ops20.relu, 0.0), Dense(P(Array{Float32,2}(60,10)), P(Array{Float32,1}(60)), Knet.Ops20.relu, 0.0), Dense(P(Array{Float32,2}(30,60)), P(Array{Float32,1}(30)), Knet.Ops20.relu, 0.0), Dense(P(Array{Float32,2}(10,30)), P(Array{Float32,1}(10)), Knet.Ops20.relu, 0.0)), Knet.Train20.adagrad, 0.15)\n",
       " GeneriCONV((Conv(P(Array{Float32,4}(5,5,1,3)), P(Array{Float32,4}(1,1,3,1)), Knet.Ops20.relu, 0.0), Dense(P(Array{Float32,2}(60,432)), P(Array{Float32,1}(60)), Knet.Ops20.relu, 0.0), Dense(P(Array{Float32,2}(30,60)), P(Array{Float32,1}(30)), Knet.Ops20.relu, 0.0), Dense(P(Array{Float32,2}(10,30)), P(Array{Float32,1}(10)), Knet.Ops20.relu, 0.0)), Knet.Train20.adagrad, 0.15)\n",
       " GeneriCONV((Conv(P(Array{Float32,4}(5,5,1,20)), P(Array{Float32,4}(1,1,20,1)), Knet.Ops20.relu, 0.0), Conv(P(Array{Float32,4}(5,5,20,50)), P(Array{Float32,4}(1,1,50,1)), Knet.Ops20.relu, 0.0), Dense(P(Array{Float32,2}(60,800)), P(Array{Float32,1}(60)), Knet.Ops20.relu, 0.0), Dense(P(Array{Float32,2}(30,60)), P(Array{Float32,1}(30)), Knet.Ops20.relu, 0.0), Dense(P(Array{Float32,2}(10,30)), P(Array{Float32,1}(10)), Knet.Ops20.relu, 0.0)), Knet.Train20.adagrad, 0.15)\n",
       " GeneriCONV((Conv(P(Array{Float32,4}(5,5,1,10)), P(Array{Float32,4}(1,1,10,1)), Knet.Ops20.relu, 0.0), Conv(P(Array{Float32,4}(4,4,10,10)), P(Array{Float32,4}(1,1,10,1)), Knet.Ops20.relu, 0.0), Conv(P(Array{Float32,4}(3,3,10,10)), P(Array{Float32,4}(1,1,10,1)), Knet.Ops20.relu, 0.0), Dense(P(Array{Float32,2}(90,10)), P(Array{Float32,1}(90)), Knet.Ops20.relu, 0.0), Dense(P(Array{Float32,2}(60,90)), P(Array{Float32,1}(60)), Knet.Ops20.relu, 0.0), Dense(P(Array{Float32,2}(30,60)), P(Array{Float32,1}(30)), Knet.Ops20.relu, 0.0), Dense(P(Array{Float32,2}(10,30)), P(Array{Float32,1}(10)), Knet.Ops20.relu, 0.0)), Knet.Train20.adagrad, 0.15)\n",
       " GeneriCONV((Conv(P(Array{Float32,4}(5,5,1,20)), P(Array{Float32,4}(1,1,20,1)), Knet.Ops20.relu, 0.0), Conv(P(Array{Float32,4}(5,5,20,50)), P(Array{Float32,4}(1,1,50,1)), Knet.Ops20.relu, 0.0), Dense(P(Array{Float32,2}(90,800)), P(Array{Float32,1}(90)), Knet.Ops20.relu, 0.0), Dense(P(Array{Float32,2}(60,90)), P(Array{Float32,1}(60)), Knet.Ops20.relu, 0.0), Dense(P(Array{Float32,2}(30,60)), P(Array{Float32,1}(30)), Knet.Ops20.relu, 0.0), Dense(P(Array{Float32,2}(10,30)), P(Array{Float32,1}(10)), Knet.Ops20.relu, 0.0)), Knet.Train20.adagrad, 0.15)\n",
       " GeneriCONV((Conv(P(Array{Float32,4}(5,5,1,3)), P(Array{Float32,4}(1,1,3,1)), Knet.Ops20.relu, 0.0), Dense(P(Array{Float32,2}(90,432)), P(Array{Float32,1}(90)), Knet.Ops20.relu, 0.0), Dense(P(Array{Float32,2}(60,90)), P(Array{Float32,1}(60)), Knet.Ops20.relu, 0.0), Dense(P(Array{Float32,2}(30,60)), P(Array{Float32,1}(30)), Knet.Ops20.relu, 0.0), Dense(P(Array{Float32,2}(10,30)), P(Array{Float32,1}(10)), Knet.Ops20.relu, 0.0)), Knet.Train20.adagrad, 0.15)\n",
       " GeneriCONV((Conv(P(Array{Float32,4}(5,5,1,10)), P(Array{Float32,4}(1,1,10,1)), Knet.Ops20.relu, 0.0), Conv(P(Array{Float32,4}(4,4,10,10)), P(Array{Float32,4}(1,1,10,1)), Knet.Ops20.relu, 0.0), Conv(P(Array{Float32,4}(3,3,10,10)), P(Array{Float32,4}(1,1,10,1)), Knet.Ops20.relu, 0.0), Dense(P(Array{Float32,2}(10,10)), P(Array{Float32,1}(10)), Knet.Ops20.relu, 0.0)), Knet.Train20.adagrad, 0.15)\n",
       " GeneriCONV((Conv(P(Array{Float32,4}(5,5,1,20)), P(Array{Float32,4}(1,1,20,1)), Knet.Ops20.relu, 0.0), Conv(P(Array{Float32,4}(5,5,20,50)), P(Array{Float32,4}(1,1,50,1)), Knet.Ops20.relu, 0.0), Dense(P(Array{Float32,2}(10,800)), P(Array{Float32,1}(10)), Knet.Ops20.relu, 0.0)), Knet.Train20.adagrad, 0.15)\n",
       " GeneriCONV((Conv(P(Array{Float32,4}(5,5,1,3)), P(Array{Float32,4}(1,1,3,1)), Knet.Ops20.relu, 0.0), Dense(P(Array{Float32,2}(10,432)), P(Array{Float32,1}(10)), Knet.Ops20.relu, 0.0)), Knet.Train20.adagrad, 0.15)\n",
       " GeneriCONV((Conv(P(Array{Float32,4}(5,5,1,20)), P(Array{Float32,4}(1,1,20,1)), Knet.Ops20.relu, 0.0), Conv(P(Array{Float32,4}(5,5,20,50)), P(Array{Float32,4}(1,1,50,1)), Knet.Ops20.relu, 0.0), Dense(P(Array{Float32,2}(30,800)), P(Array{Float32,1}(30)), Knet.Ops20.relu, 0.0), Dense(P(Array{Float32,2}(10,30)), P(Array{Float32,1}(10)), Knet.Ops20.relu, 0.0)), Knet.Train20.adagrad, 0.15)\n",
       " GeneriCONV((Conv(P(Array{Float32,4}(5,5,1,10)), P(Array{Float32,4}(1,1,10,1)), Knet.Ops20.relu, 0.0), Conv(P(Array{Float32,4}(4,4,10,10)), P(Array{Float32,4}(1,1,10,1)), Knet.Ops20.relu, 0.0), Conv(P(Array{Float32,4}(3,3,10,10)), P(Array{Float32,4}(1,1,10,1)), Knet.Ops20.relu, 0.0), Dense(P(Array{Float32,2}(30,10)), P(Array{Float32,1}(30)), Knet.Ops20.relu, 0.0), Dense(P(Array{Float32,2}(10,30)), P(Array{Float32,1}(10)), Knet.Ops20.relu, 0.0)), Knet.Train20.adagrad, 0.15)\n",
       " GeneriCONV((Conv(P(Array{Float32,4}(5,5,1,3)), P(Array{Float32,4}(1,1,3,1)), Knet.Ops20.relu, 0.0), Dense(P(Array{Float32,2}(30,432)), P(Array{Float32,1}(30)), Knet.Ops20.relu, 0.0), Dense(P(Array{Float32,2}(10,30)), P(Array{Float32,1}(10)), Knet.Ops20.relu, 0.0)), Knet.Train20.adagrad, 0.15)\n",
       " GeneriCONV((Conv(P(Array{Float32,4}(5,5,1,3)), P(Array{Float32,4}(1,1,3,1)), Knet.Ops20.relu, 0.0), Dense(P(Array{Float32,2}(60,432)), P(Array{Float32,1}(60)), Knet.Ops20.relu, 0.0), Dense(P(Array{Float32,2}(10,60)), P(Array{Float32,1}(10)), Knet.Ops20.relu, 0.0)), Knet.Train20.adagrad, 0.15)\n",
       " ⋮\n",
       " GeneriCONV((Conv(P(Array{Float32,4}(5,5,1,20)), P(Array{Float32,4}(1,1,20,1)), tanh, 0.0), Conv(P(Array{Float32,4}(5,5,20,50)), P(Array{Float32,4}(1,1,50,1)), tanh, 0.0), Dense(P(Array{Float32,2}(10,800)), P(Array{Float32,1}(10)), tanh, 0.0)), Knet.Train20.sgd, 0.1)\n",
       " GeneriCONV((Conv(P(Array{Float32,4}(5,5,1,3)), P(Array{Float32,4}(1,1,3,1)), tanh, 0.0), Dense(P(Array{Float32,2}(10,432)), P(Array{Float32,1}(10)), tanh, 0.0)), Knet.Train20.sgd, 0.1)\n",
       " GeneriCONV((Conv(P(Array{Float32,4}(5,5,1,10)), P(Array{Float32,4}(1,1,10,1)), tanh, 0.0), Conv(P(Array{Float32,4}(4,4,10,10)), P(Array{Float32,4}(1,1,10,1)), tanh, 0.0), Conv(P(Array{Float32,4}(3,3,10,10)), P(Array{Float32,4}(1,1,10,1)), tanh, 0.0), Dense(P(Array{Float32,2}(10,10)), P(Array{Float32,1}(10)), tanh, 0.0)), Knet.Train20.sgd, 0.1)\n",
       " GeneriCONV((Conv(P(Array{Float32,4}(5,5,1,3)), P(Array{Float32,4}(1,1,3,1)), tanh, 0.0), Dense(P(Array{Float32,2}(60,432)), P(Array{Float32,1}(60)), tanh, 0.0), Dense(P(Array{Float32,2}(30,60)), P(Array{Float32,1}(30)), tanh, 0.0), Dense(P(Array{Float32,2}(10,30)), P(Array{Float32,1}(10)), tanh, 0.0)), Knet.Train20.sgd, 0.1)\n",
       " GeneriCONV((Conv(P(Array{Float32,4}(5,5,1,20)), P(Array{Float32,4}(1,1,20,1)), tanh, 0.0), Conv(P(Array{Float32,4}(5,5,20,50)), P(Array{Float32,4}(1,1,50,1)), tanh, 0.0), Dense(P(Array{Float32,2}(60,800)), P(Array{Float32,1}(60)), tanh, 0.0), Dense(P(Array{Float32,2}(30,60)), P(Array{Float32,1}(30)), tanh, 0.0), Dense(P(Array{Float32,2}(10,30)), P(Array{Float32,1}(10)), tanh, 0.0)), Knet.Train20.sgd, 0.1)\n",
       " GeneriCONV((Conv(P(Array{Float32,4}(5,5,1,10)), P(Array{Float32,4}(1,1,10,1)), tanh, 0.0), Conv(P(Array{Float32,4}(4,4,10,10)), P(Array{Float32,4}(1,1,10,1)), tanh, 0.0), Conv(P(Array{Float32,4}(3,3,10,10)), P(Array{Float32,4}(1,1,10,1)), tanh, 0.0), Dense(P(Array{Float32,2}(60,10)), P(Array{Float32,1}(60)), tanh, 0.0), Dense(P(Array{Float32,2}(30,60)), P(Array{Float32,1}(30)), tanh, 0.0), Dense(P(Array{Float32,2}(10,30)), P(Array{Float32,1}(10)), tanh, 0.0)), Knet.Train20.sgd, 0.1)\n",
       " GeneriCONV((Conv(P(Array{Float32,4}(5,5,1,10)), P(Array{Float32,4}(1,1,10,1)), tanh, 0.0), Conv(P(Array{Float32,4}(4,4,10,10)), P(Array{Float32,4}(1,1,10,1)), tanh, 0.0), Conv(P(Array{Float32,4}(3,3,10,10)), P(Array{Float32,4}(1,1,10,1)), tanh, 0.0), Dense(P(Array{Float32,2}(90,10)), P(Array{Float32,1}(90)), tanh, 0.0), Dense(P(Array{Float32,2}(60,90)), P(Array{Float32,1}(60)), tanh, 0.0), Dense(P(Array{Float32,2}(30,60)), P(Array{Float32,1}(30)), tanh, 0.0), Dense(P(Array{Float32,2}(10,30)), P(Array{Float32,1}(10)), tanh, 0.0)), Knet.Train20.sgd, 0.1)\n",
       " GeneriCONV((Conv(P(Array{Float32,4}(5,5,1,20)), P(Array{Float32,4}(1,1,20,1)), tanh, 0.0), Conv(P(Array{Float32,4}(5,5,20,50)), P(Array{Float32,4}(1,1,50,1)), tanh, 0.0), Dense(P(Array{Float32,2}(90,800)), P(Array{Float32,1}(90)), tanh, 0.0), Dense(P(Array{Float32,2}(60,90)), P(Array{Float32,1}(60)), tanh, 0.0), Dense(P(Array{Float32,2}(30,60)), P(Array{Float32,1}(30)), tanh, 0.0), Dense(P(Array{Float32,2}(10,30)), P(Array{Float32,1}(10)), tanh, 0.0)), Knet.Train20.sgd, 0.1)\n",
       " GeneriCONV((Conv(P(Array{Float32,4}(5,5,1,3)), P(Array{Float32,4}(1,1,3,1)), tanh, 0.0), Dense(P(Array{Float32,2}(90,432)), P(Array{Float32,1}(90)), tanh, 0.0), Dense(P(Array{Float32,2}(60,90)), P(Array{Float32,1}(60)), tanh, 0.0), Dense(P(Array{Float32,2}(30,60)), P(Array{Float32,1}(30)), tanh, 0.0), Dense(P(Array{Float32,2}(10,30)), P(Array{Float32,1}(10)), tanh, 0.0)), Knet.Train20.sgd, 0.1)\n",
       " GeneriCONV((Conv(P(Array{Float32,4}(5,5,1,3)), P(Array{Float32,4}(1,1,3,1)), tanh, 0.0), Dense(P(Array{Float32,2}(30,432)), P(Array{Float32,1}(30)), tanh, 0.0), Dense(P(Array{Float32,2}(10,30)), P(Array{Float32,1}(10)), tanh, 0.0)), Knet.Train20.sgd, 0.1)\n",
       " GeneriCONV((Conv(P(Array{Float32,4}(5,5,1,20)), P(Array{Float32,4}(1,1,20,1)), tanh, 0.0), Conv(P(Array{Float32,4}(5,5,20,50)), P(Array{Float32,4}(1,1,50,1)), tanh, 0.0), Dense(P(Array{Float32,2}(30,800)), P(Array{Float32,1}(30)), tanh, 0.0), Dense(P(Array{Float32,2}(10,30)), P(Array{Float32,1}(10)), tanh, 0.0)), Knet.Train20.sgd, 0.1)\n",
       " GeneriCONV((Conv(P(Array{Float32,4}(5,5,1,10)), P(Array{Float32,4}(1,1,10,1)), tanh, 0.0), Conv(P(Array{Float32,4}(4,4,10,10)), P(Array{Float32,4}(1,1,10,1)), tanh, 0.0), Conv(P(Array{Float32,4}(3,3,10,10)), P(Array{Float32,4}(1,1,10,1)), tanh, 0.0), Dense(P(Array{Float32,2}(30,10)), P(Array{Float32,1}(30)), tanh, 0.0), Dense(P(Array{Float32,2}(10,30)), P(Array{Float32,1}(10)), tanh, 0.0)), Knet.Train20.sgd, 0.1)"
      ]
     },
     "execution_count": 40,
     "metadata": {},
     "output_type": "execute_result"
    }
   ],
   "source": [
    "models"
   ]
  },
  {
   "cell_type": "code",
   "execution_count": null,
   "metadata": {},
   "outputs": [
    {
     "name": "stderr",
     "output_type": "stream",
     "text": [
      "┣████████████████████┫ [100.00%, 600/600, 00:33/00:33, 18.32i/s] \n",
      "┣████████████████████┫ [100.00%, 600/600, 00:09/00:09, 64.53i/s] \n",
      "┣████████████████████┫ [100.00%, 600/600, 01:32/01:32, 6.51i/s]                  ┫ [3.50%, 21/600, 00:05/02:18, 1.82i/s] ▌                ┫ [17.83%, 107/600, 00:14/01:20, 9.50i/s] ▏               ┫ [21.17%, 127/600, 00:16/01:18, 9.18i/s] [27.83%, 167/600, 00:21/01:15, 9.28i/s] ▉            ┫ [39.50%, 237/600, 00:28/01:11, 9.39i/s] \n",
      "┣████████████████████┫ [100.00%, 600/600, 00:28/00:28, 21.39i/s] \n",
      "┣████████████████████┫ [100.00%, 600/600, 01:33/01:33, 6.47i/s] 3%, 11/600, 00:01/01:05, 9.27i/s] ▋                   ┫ [3.33%, 20/600, 00:02/01:06, 8.96i/s] [54.00%, 324/600, 00:36/01:08, 9.69i/s] ▍        ┫ [57.33%, 344/600, 00:39/01:07, 9.32i/s] ┫ [64.00%, 384/600, 00:43/01:07, 9.35i/s] ▏    ┫ [75.67%, 454/600, 00:50/01:06, 9.36i/s] ┫ [84.00%, 504/600, 00:56/01:06, 9.40i/s] ▍  ┫ [87.33%, 524/600, 00:58/01:06, 9.49i/s] ▊  ┫ [89.00%, 534/600, 00:59/01:06, 9.31i/s] ▏ ┫ [90.67%, 544/600, 01:00/01:06, 9.38i/s] \n",
      "┣████████████████████┫ [100.00%, 600/600, 00:11/00:11, 56.79i/s] \n",
      "┣████████████████████┫ [100.00%, 600/600, 00:30/00:30, 19.98i/s]  ┫ [90.50%, 543/600, 00:18/00:20, 29.42i/s] \n",
      "┣██████████████████▌ ┫ [92.67%, 556/600, 01:02/01:07, 8.39i/s] .17%, 31/600, 00:03/01:03, 9.48i/s]               ┫ [25.17%, 151/600, 00:16/01:03, 9.56i/s] [48.50%, 291/600, 00:31/01:03, 9.61i/s]     ┫ [80.00%, 480/600, 00:51/01:03, 8.78i/s] ████████████████▋   ┫ [83.50%, 501/600, 00:54/01:05, 2.17i/s] "
     ]
    }
   ],
   "source": [
    "train_summarize.(models; dtrn = dtrn, epoch = 1)"
   ]
  },
  {
   "cell_type": "code",
   "execution_count": null,
   "metadata": {},
   "outputs": [],
   "source": []
  }
 ],
 "metadata": {
  "@webio": {
   "lastCommId": null,
   "lastKernelId": null
  },
  "kernelspec": {
   "display_name": "Julia 1.5.2",
   "language": "julia",
   "name": "julia-1.5"
  },
  "language_info": {
   "file_extension": ".jl",
   "mimetype": "application/julia",
   "name": "julia",
   "version": "1.5.2"
  }
 },
 "nbformat": 4,
 "nbformat_minor": 4
}
