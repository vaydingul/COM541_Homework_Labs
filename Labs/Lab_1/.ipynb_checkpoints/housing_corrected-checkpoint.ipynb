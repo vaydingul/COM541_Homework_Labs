{
 "cells": [
  {
   "cell_type": "markdown",
   "metadata": {},
   "source": [
    "# COMP541 - LAB #1\n",
    "\n",
    "In this exercise, you’re supposed to preprocess Boston Housing Dataset, so that we can use it in some machine learning models like linear regression later.\n",
    "\n",
    "The housing dataset has housing related information for 506 neighborhoods in Boston from 1978. Each neighborhood is represented using 13 attributes such as crime rate or distance to employment centers. The goal is to predict the median value of the houses given in $1000's.\n",
    "\n",
    "Note that the only reason we always use functions is for us to be able to test what you do properly. You do not have to do everything in a function when you write your code 😉"
   ]
  },
  {
   "cell_type": "code",
   "execution_count": 81,
   "metadata": {},
   "outputs": [],
   "source": [
    "using Test"
   ]
  },
  {
   "cell_type": "markdown",
   "metadata": {},
   "source": [
    "## Exercise 0\n",
    "\n",
    "In order to use some necessary functions, we need to import some modules. Just insert the following line as first line or cell.\n",
    "\n",
    "`using DelimitedFiles, Statistics, Random`\n",
    "\n",
    "**Statistics** contains statistical procedures like **mean** and **std**, **DelimitedFiles** contains our data read procedure functions (**readdlm**) and Random is for random numbers (**rand**, **Random.seed!** etc.)."
   ]
  },
  {
   "cell_type": "code",
   "execution_count": 82,
   "metadata": {},
   "outputs": [],
   "source": [
    "using DelimitedFiles, Statistics, Random"
   ]
  },
  {
   "cell_type": "markdown",
   "metadata": {},
   "source": [
    "## Exercise 1\n",
    "\n",
    "First download, and then read the file. You need to download the data within Julia notebook (please have a look: **readdlm**, **download** functions of Julia by typing e.g. **@doc download**). If you look at the data, you see that each house is represented with 13 attributes separated by whitespaces and there are 506 lines in total. Here’s the [link](https://raw.githubusercontent.com/ilkerkesen/ufldl-tutorial/master/ex1/housing.data) to the dataset."
   ]
  },
  {
   "cell_type": "code",
   "execution_count": 83,
   "metadata": {},
   "outputs": [
    {
     "name": "stderr",
     "output_type": "stream",
     "text": [
      "┌ Info: Testing Download\n",
      "└ @ Main In[83]:12\n"
     ]
    },
    {
     "data": {
      "text/plain": [
       "\u001b[32m\u001b[1mTest Passed\u001b[22m\u001b[39m"
      ]
     },
     "execution_count": 83,
     "metadata": {},
     "output_type": "execute_result"
    }
   ],
   "source": [
    "\"\"\"\n",
    "    download_and_read(data_url)\n",
    "\n",
    "First download the `data_url`, then read it into an array.\n",
    "\"\"\"\n",
    "function download_and_read(data_url)\n",
    "    fname = download(data_url)\n",
    "    readdlm(fname)\n",
    "end\n",
    "housing_data = download_and_read(\"https://raw.githubusercontent.com/ilkerkesen/ufldl-tutorial/master/ex1/housing.data\")\n",
    "\n",
    "@info \"Testing Download\"\n",
    "@test size(housing_data) == (506, 14)\n",
    "@test mean(housing_data) ≈ 66.67816985036704"
   ]
  },
  {
   "cell_type": "markdown",
   "metadata": {},
   "source": [
    "## Exercise 2\n",
    "\n",
    "The resulting data matrix should have 506 rows representing neighborhoods and 14 columns representing the attributes. The last attribute is the median house price to be predicted, so let’s separate it. Also, take transpose of this data matrix to make data convenient with common mathematical notation (deep learning people represent instances/samples as column vectors mostly). We will use Julia’s array indexing operation to split the data array into input x and output y. (Hint: you may want to **reshape** y array into a matrix with size 1x506, use reshape procedure for this purpose)"
   ]
  },
  {
   "cell_type": "code",
   "execution_count": 84,
   "metadata": {},
   "outputs": [
    {
     "name": "stderr",
     "output_type": "stream",
     "text": [
      "┌ Info: Testing Reshape\n",
      "└ @ Main In[84]:16\n"
     ]
    },
    {
     "data": {
      "text/plain": [
       "\u001b[32m\u001b[1mTest Passed\u001b[22m\u001b[39m"
      ]
     },
     "execution_count": 84,
     "metadata": {},
     "output_type": "execute_result"
    }
   ],
   "source": [
    "\"\"\"\n",
    "    reshape_data(data)\n",
    "\n",
    "Transpose `data` and split it into two parts along the first axis.\n",
    "Second split is size of 1. Return both splits as 2-dimensional arrays.\n",
    "\"\"\"\n",
    "function reshape_data(data)\n",
    "    data = copy(transpose(data))\n",
    "    x = data[1:((size(data)[1])-1), :]\n",
    "    y = data[size(data)[1], :]\n",
    "    y = reshape(y, (1,size(data)[2]))\n",
    "    return x,y\n",
    "end\n",
    "x,y = reshape_data(housing_data)\n",
    "\n",
    "@info \"Testing Reshape\"\n",
    "@test size(x) == (13,506)\n",
    "@test size(y) == (1,506)\n",
    "@test mean(x[:,1]) ≈ 62.37687076923077\n",
    "@test y[1,123] == 20.5"
   ]
  },
  {
   "cell_type": "markdown",
   "metadata": {},
   "source": [
    "Do not panic if you see \"LinearAlgebra.Adjoint{Float64,Array{Float64,2}}\" instead of \"Array{Float64,2}\". This is just a wrapper type around array type that julia returns when you transpose an array. You can get rid of it by copy or collect function."
   ]
  },
  {
   "cell_type": "markdown",
   "metadata": {},
   "source": [
    "## Exercise 3\n",
    "As you can see, input attributes have different ranges. We need to normalize attributes by subtracting their mean and then dividing by their standard deviation (hint: take means and standard deviations of column vectors). The mean and std functions calculate mean and standard deviation values of x. Calculate mean and standard deviation values. Perform normalization on input data."
   ]
  },
  {
   "cell_type": "code",
   "execution_count": 85,
   "metadata": {},
   "outputs": [
    {
     "name": "stderr",
     "output_type": "stream",
     "text": [
      "┌ Info: Testing Normalize\n",
      "└ @ Main In[85]:14\n"
     ]
    },
    {
     "data": {
      "text/plain": [
       "\u001b[32m\u001b[1mTest Passed\u001b[22m\u001b[39m"
      ]
     },
     "execution_count": 85,
     "metadata": {},
     "output_type": "execute_result"
    }
   ],
   "source": [
    "\"\"\"\n",
    "    normalize(x)\n",
    "\n",
    "Take mean and standart deviation of `x` along second axis. Subtract the mean from x and\n",
    "divide by standart deviation. Return the result.\n",
    "\"\"\"\n",
    "function normalize(x)\n",
    "    μ = mean(x, dims = 2)\n",
    "    σ = std(x, dims = 2)\n",
    "    x = (x .- μ) ./ σ\n",
    "end\n",
    "x = normalize(x)\n",
    "\n",
    "@info \"Testing Normalize\"\n",
    "@test size(x) == (13,506)\n",
    "@test mean(x[:, 123]) ≈ -0.010503411301568476"
   ]
  },
  {
   "cell_type": "markdown",
   "metadata": {},
   "source": [
    "### *Important Note on Random Number Generation*\n",
    "Before generating random numbers, strings etc., you need to set a seed, because Julia uses a pseudo random number generator. In pseudo random number generators you set a seed and you obtain some certain random number generation order based on that seed. If you don’t set a seed, the results you obtain in the next exercises will be different. When you fail in some part, run the cells again starting from the cell or line we set random seed."
   ]
  },
  {
   "cell_type": "markdown",
   "metadata": {},
   "source": [
    "## Exercise 4\n",
    "It is necessary to split our dataset into training and test subsets so we can estimate how good our model will perform on unseen data. There are 506 house in our dataset. Let’s take 400 of them randomly, use them as training data. Let the rest be test data. In the end, you will have 4 different arrays: xtrn, ytrn, xtst and ytst.\n",
    "\n",
    "Use **randperm** function to split our dataset into train and test sets. Note that, results will differ since usage of **randperm** function introduces randomness. If you want to overcome this randomness, set a seed by using **Random.seed!** function. In this exercise, we set seed as 1 just before **randperm** call and you need to take the first 400 random samples -not the last 400- as your training data, so that you will get exactly the same results. Use **@doc** macro to see documentation about **randperm** and **Random.seed!** (e.g. type **@doc randperm** to Julia REPL or notebook)."
   ]
  },
  {
   "cell_type": "code",
   "execution_count": 86,
   "metadata": {},
   "outputs": [
    {
     "name": "stderr",
     "output_type": "stream",
     "text": [
      "┌ Info: Testing Split\n",
      "└ @ Main In[86]:18\n"
     ]
    },
    {
     "data": {
      "text/plain": [
       "\u001b[32m\u001b[1mTest Passed\u001b[22m\u001b[39m"
      ]
     },
     "execution_count": 86,
     "metadata": {},
     "output_type": "execute_result"
    }
   ],
   "source": [
    "Random.seed!(1)\n",
    "\"\"\"\n",
    "    train_test_split(x, y, split_size=400)\n",
    "\n",
    "Shuffle both `x` and `y` with same random permutation so that they correspond to each other\n",
    "on their second axis. Split both into two by `split_size`, return the splits.\n",
    "\"\"\"\n",
    "function train_test_split(x, y, split_size=400)\n",
    "    rperm = randperm(size(y)[2])\n",
    "    xtrn = x[:, rperm[1:split_size]] \n",
    "    ytrn = y[:, rperm[1:split_size]]\n",
    "    xtst = x[:, rperm[split_size + 1 : size(x)[2]]]\n",
    "    ytst = y[:, rperm[split_size + 1 : size(x)[2]]]\n",
    "    return xtrn, xtst, ytrn, ytst\n",
    "end\n",
    "xtrn, xtst, ytrn, ytst = train_test_split(x, y)\n",
    "\n",
    "@info \"Testing Split\"\n",
    "@test size(xtrn) == (13,400)\n",
    "@test size(xtst) == (13,106)\n",
    "@test size(ytrn) == (1,400)\n",
    "@test size(ytst) == (1,106)\n",
    "@test mean(xtrn[:,123]) ≈ 0.5696601530016167\n",
    "@test mean(xtst[:,42]) ≈ -0.15323416352408686\n",
    "@test ytrn[1,123] == 13.1\n",
    "@test ytst[1,42] == 20.0"
   ]
  },
  {
   "cell_type": "markdown",
   "metadata": {},
   "source": [
    "## Exercise 5\n",
    "Our data is ready to be used. This week, we will not deal with the training of a model, but let’s look at how good a randomly initialized linear regression model performs on our processed data.\n",
    "\n",
    "Basically, we need to use some weights with whom we’re going to multiply the attributes of houses so that we can predict the price of that house. Neighborhoods are represented with 13 attributes and we need to predict the prices which is a single number. We need to have a weight matrices with size of 1x13. We also use a bias value which is 0.\n",
    "\n",
    "To create weight matrix, we will sample from normal distribution with zero mean and a small standard deviation. In this tutorial, our standard deviation value is equal to 0.1. Use randn function to create a random weight matrix whose values are sampled from a unit normal distribution (mean=0, standard deviation=1). Multiply our weight matrix by 0.1 which is our desired standard deviation. We will not use bias in this tutorial."
   ]
  },
  {
   "cell_type": "code",
   "execution_count": 87,
   "metadata": {},
   "outputs": [
    {
     "name": "stderr",
     "output_type": "stream",
     "text": [
      "┌ Info: Testing w\n",
      "└ @ Main In[87]:12\n"
     ]
    },
    {
     "data": {
      "text/plain": [
       "\u001b[32m\u001b[1mTest Passed\u001b[22m\u001b[39m"
      ]
     },
     "execution_count": 87,
     "metadata": {},
     "output_type": "execute_result"
    }
   ],
   "source": [
    "\"\"\"\n",
    "    create_matrix(x=1, y=13, scale=0.1)\n",
    "\n",
    "Return a matrix of size (`x`, `y`) scaled by `scale`.\n",
    "\"\"\"\n",
    "function create_matrix(x=1, y=13, scale=0.1)\n",
    "    randn((x,y)) .* scale\n",
    "end\n",
    "Random.seed!(1)\n",
    "w = create_matrix()\n",
    "\n",
    "@info \"Testing w\"\n",
    "@test size(w) == (1,13)\n",
    "@test w[1,3] ≈ -0.059763447672823114"
   ]
  },
  {
   "cell_type": "markdown",
   "metadata": {},
   "source": [
    "Note that if you used any other operation that uses a seed after you used randperm function once in the previous exercise, your weight array will not be the same with the example. Please reset your seed and try again."
   ]
  },
  {
   "cell_type": "markdown",
   "metadata": {},
   "source": [
    "## Exercise 6\n",
    "Now, we have input and weights. Let’s write a function to predict price. Implement the function takes weight matrix and neighborhood attributes as input and outputs a single value, house price prediction. Simply perform a matrix multiplication inside this function and return the output vector."
   ]
  },
  {
   "cell_type": "code",
   "execution_count": 88,
   "metadata": {},
   "outputs": [
    {
     "name": "stderr",
     "output_type": "stream",
     "text": [
      "┌ Info: Testing Predict\n",
      "└ @ Main In[88]:11\n"
     ]
    },
    {
     "data": {
      "text/plain": [
       "\u001b[32m\u001b[1mTest Passed\u001b[22m\u001b[39m"
      ]
     },
     "execution_count": 88,
     "metadata": {},
     "output_type": "execute_result"
    }
   ],
   "source": [
    "\"\"\"\n",
    "    predict(w, x)\n",
    "\n",
    "Return the dot product of `w` and `x`.\n",
    "\"\"\"\n",
    "function predict(w, x)\n",
    "    w * x\n",
    "end\n",
    "ypred = predict(w, xtrn)\n",
    "\n",
    "@info \"Testing Predict\"\n",
    "@test size(ypred) == (1,400)\n",
    "@test ypred[1,123] ≈ -0.16473245771387449"
   ]
  },
  {
   "cell_type": "markdown",
   "metadata": {},
   "source": [
    "ypred is an 1x400 dimensional array/matrix. Each value in this array is the model’s price prediction for an average house in corresponding neighborhood."
   ]
  },
  {
   "cell_type": "markdown",
   "metadata": {},
   "source": [
    "## Exercise 7\n",
    "Let’s implement a loss function which is called as Mean Squared Error (MSE),\n",
    "![](https://github.com/OsmanMutlu/rawtext/raw/master/img/Comp541-Lab1-Screenshot7.png)\n",
    "In this function we calculate J, our loss value, average of squared difference between real price values and predicted price values.\n",
    "\n",
    "Implement MSE loss function which takes weight matrix, input matrix (xtrn or xtst) and ground truth prices (ytrn or ytst). We make the first parameter of loss function weight matrix, it’s not crucial, but make it a habit. Use the **predict** function you implemented above. Helpful functions: sum, mean, size, abs2, .* You don’t have to use all of them. Use abs2 with dot syntax as **abs2.(x)** if you’re using it."
   ]
  },
  {
   "cell_type": "code",
   "execution_count": 89,
   "metadata": {},
   "outputs": [
    {
     "name": "stderr",
     "output_type": "stream",
     "text": [
      "┌ Info: Testing Loss\n",
      "└ @ Main In[89]:14\n"
     ]
    },
    {
     "data": {
      "text/plain": [
       "\u001b[32m\u001b[1mTest Passed\u001b[22m\u001b[39m"
      ]
     },
     "execution_count": 89,
     "metadata": {},
     "output_type": "execute_result"
    }
   ],
   "source": [
    "\"\"\"\n",
    "    mse_loss(w, x, y)\n",
    "\n",
    "Predict `x` using `w`. Calculate the loss of the predictions using `y`.\n",
    "\"\"\"\n",
    "function mse_loss(w, x, y)\n",
    "    sum(abs2.(predict(w,x) - y)) ./ (2 * size(y)[2])\n",
    "    \n",
    "end\n",
    "\n",
    "train_loss = mse_loss(w, xtrn, ytrn)\n",
    "test_loss = mse_loss(w, xtst, ytst)\n",
    "\n",
    "@info \"Testing Loss\"\n",
    "@test train_loss ≈ 294.9289548077531\n",
    "@test test_loss ≈ 298.1198492352728"
   ]
  },
  {
   "cell_type": "markdown",
   "metadata": {},
   "source": [
    "## Exercise 8\n",
    "Lastly, let’s find in how many of them, the model predicts the price with an error less than average error. Measure the absolute difference between the predicted price and correct price for each neighborhood and compare those differences with the square root of the loss value calculated in previous exercise. You can use **sqrt** function to take square roots. The result should be **107**."
   ]
  },
  {
   "cell_type": "code",
   "execution_count": 90,
   "metadata": {},
   "outputs": [
    {
     "name": "stderr",
     "output_type": "stream",
     "text": [
      "┌ Info: Testing Result\n",
      "└ @ Main In[90]:13\n"
     ]
    },
    {
     "data": {
      "text/plain": [
       "\u001b[32m\u001b[1mTest Passed\u001b[22m\u001b[39m"
      ]
     },
     "execution_count": 90,
     "metadata": {},
     "output_type": "execute_result"
    }
   ],
   "source": [
    "\"\"\"\n",
    "    num_above_avg_preds(y,pred,loss)\n",
    "\n",
    "Calculate absolute difference between `y` and `pred`. Return the number of instances\n",
    "whose difference is less than square root of `loss`.\n",
    "\"\"\"\n",
    "function num_above_avg_preds(y,pred,loss)\n",
    "    diff = abs.(y-pred)\n",
    "    size(diff[diff .< sqrt.(loss)])[1]\n",
    "end\n",
    "result = num_above_avg_preds(ytrn,ypred,train_loss)\n",
    "\n",
    "@info \"Testing Result\"\n",
    "@test result == 107"
   ]
  },
  {
   "cell_type": "markdown",
   "metadata": {},
   "source": [
    "---\n",
    "\n",
    "*This notebook was generated using [Literate.jl](https://github.com/fredrikekre/Literate.jl).*"
   ]
  }
 ],
 "metadata": {
  "kernelspec": {
   "display_name": "Julia 1.5.2",
   "language": "julia",
   "name": "julia-1.5"
  },
  "language_info": {
   "file_extension": ".jl",
   "mimetype": "application/julia",
   "name": "julia",
   "version": "1.5.2"
  }
 },
 "nbformat": 4,
 "nbformat_minor": 3
}
